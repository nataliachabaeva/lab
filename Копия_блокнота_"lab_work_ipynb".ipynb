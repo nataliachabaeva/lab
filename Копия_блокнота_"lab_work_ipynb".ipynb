{
  "nbformat": 4,
  "nbformat_minor": 0,
  "metadata": {
    "colab": {
      "provenance": [],
      "include_colab_link": true
    },
    "kernelspec": {
      "name": "python3",
      "display_name": "Python 3"
    },
    "language_info": {
      "name": "python"
    }
  },
  "cells": [
    {
      "cell_type": "markdown",
      "metadata": {
        "id": "view-in-github",
        "colab_type": "text"
      },
      "source": [
        "<a href=\"https://colab.research.google.com/github/nataliachabaeva/lab/blob/dev/%D0%9A%D0%BE%D0%BF%D0%B8%D1%8F_%D0%B1%D0%BB%D0%BE%D0%BA%D0%BD%D0%BE%D1%82%D0%B0_%22lab_work_ipynb%22.ipynb\" target=\"_parent\"><img src=\"https://colab.research.google.com/assets/colab-badge.svg\" alt=\"Open In Colab\"/></a>"
      ]
    },
    {
      "cell_type": "markdown",
      "source": [
        "# Лабораторная работа"
      ],
      "metadata": {
        "id": "rloJD2luQnuQ"
      }
    },
    {
      "cell_type": "markdown",
      "source": [
        "Баллы за секции:\n",
        "- *Задание 1* - 10 баллов\n",
        "- *Задание 2* - 20 баллов\n",
        "- *Задание 3* - 30 баллов\n",
        "- **Итого** - 60 баллов\n",
        "\n",
        "Оценка за лабу $ = \\frac{score}{6}$"
      ],
      "metadata": {
        "id": "xIZ02xiML9p_"
      }
    },
    {
      "cell_type": "markdown",
      "source": [
        "## Внимание! Attention! Achtung!"
      ],
      "metadata": {
        "id": "OEDe7x8YRID0"
      }
    },
    {
      "cell_type": "markdown",
      "source": [
        "**Данная лабораторная работа является блокирующей**, т.е. если лабораторная работа не выполнена, то оценка за курс - неуд.\n",
        "\n",
        "Лабораторная работа считается выполненной, если **за каждое из заданий получено не менее 2 баллов**."
      ],
      "metadata": {
        "id": "ZEmKA-7NR1Y9"
      }
    },
    {
      "cell_type": "markdown",
      "source": [
        "## Формат сдачи лабораторной работы"
      ],
      "metadata": {
        "id": "N1ZbZ8dkR5q_"
      }
    },
    {
      "cell_type": "markdown",
      "source": [
        "Данная лабораторная работа сдается так же, как и проект - заполняете данный ноутбук, отправляете его через GitHub с указанием проверяющего."
      ],
      "metadata": {
        "id": "tEwx7LLQR-h8"
      }
    },
    {
      "cell_type": "markdown",
      "source": [
        "**Ассистенты не будут запускать ячейки кода, а смотреть на выведенный результат и код. Если ячейка кода не запущена - балл не ставится, даже при правильно написанном коде.**\n",
        "\n",
        "***(Комментарии что курс по Python легче чем по C++ учтены)***"
      ],
      "metadata": {
        "id": "qKwaNCJKj7b8"
      }
    },
    {
      "cell_type": "markdown",
      "source": [
        ">**Примечание**\n",
        ">\n",
        ">Данные задания вдохновлены предметом \"Введение в анализ данных\" 2 курса, по итогу которого идёт отбор на DS-поток. Если вы видите себя в смежных областях, советуем выполнить данную лабораторку по максимуму."
      ],
      "metadata": {
        "id": "hlUYK7MDRGye"
      }
    },
    {
      "cell_type": "code",
      "source": [
        "# Всё необходимое для выполнения данной лабораторной работы!\n",
        "import requests\n",
        "from time import sleep\n",
        "\n",
        "import numpy as np\n",
        "import pandas as pd\n",
        "import matplotlib.pyplot as plt\n",
        "import seaborn as sns"
      ],
      "metadata": {
        "id": "1qzEqvohoZfB"
      },
      "execution_count": 5,
      "outputs": []
    },
    {
      "cell_type": "markdown",
      "source": [
        "## Задание 1. Парсинг - 10 баллов"
      ],
      "metadata": {
        "id": "rB_FYHU2k8w-"
      }
    },
    {
      "cell_type": "markdown",
      "source": [
        "В этом задании Вам предстоит работать с API сайта <a target=\"_blank\" href=\"hh.ru\">hh.ru</a>. Документация доступна по <a target=\"_blank\" href=\"https://github.com/hhru/api/blob/master/docs/vacancies.md#search\">ссылке</a>."
      ],
      "metadata": {
        "id": "F0gr5cjaoQJy"
      }
    },
    {
      "cell_type": "markdown",
      "source": [
        "<b><font color=\"red\">Внимание!</font> При работе с API не забывайте делать паузы между запросами, иначе вас забанят. Просрочка дедлайна по этой причине не принимается!</b>"
      ],
      "metadata": {
        "id": "v8iCQYk7TNvK"
      }
    },
    {
      "cell_type": "markdown",
      "source": [
        "**Задача:**\n",
        "1. выбрать 5 интересующих вас профессий (не смежных, т.е. Аналатик и Data Engineer не считается корректным)\n",
        "2. затем получить доступные по данным профессиям вакансии в Москве и выделить их физические координаты\n",
        "3. нанести полученные координаты на карту местоположения компаний"
      ],
      "metadata": {
        "id": "-HAm80rqRqAZ"
      }
    },
    {
      "cell_type": "markdown",
      "source": [
        "*Пример запроса для профессии:*"
      ],
      "metadata": {
        "id": "H0GhQJvipXYj"
      }
    },
    {
      "cell_type": "code",
      "source": [
        "URL = 'https://api.hh.ru/vacancies'\n",
        "\n",
        "params = {\n",
        "    'text': \"Физик-ядерщик\",\n",
        "    'area': 1,\n",
        "    'page': 0,\n",
        "    'per_page': 10\n",
        "}\n",
        "\n",
        "data = requests.get(URL, params).json()"
      ],
      "metadata": {
        "id": "aZLGoS_DpsXI"
      },
      "execution_count": 2,
      "outputs": []
    },
    {
      "cell_type": "markdown",
      "source": [
        "Если Ваш запрос прошел успешно, то вы получите следующие ключи (значения данных ключей вы найдете по ссылке на документацию):"
      ],
      "metadata": {
        "id": "yHQtIBRQp91_"
      }
    },
    {
      "cell_type": "code",
      "source": [
        "data['pages']"
      ],
      "metadata": {
        "colab": {
          "base_uri": "https://localhost:8080/"
        },
        "id": "DW6mxzggpvKw",
        "outputId": "0cfa5903-90b5-4ab5-8bc5-bf0d027add2f"
      },
      "execution_count": 3,
      "outputs": [
        {
          "output_type": "execute_result",
          "data": {
            "text/plain": [
              "1"
            ]
          },
          "metadata": {},
          "execution_count": 3
        }
      ]
    },
    {
      "cell_type": "markdown",
      "source": [
        ">**Примечание**\n",
        ">\n",
        ">В `data['pages']` будет хранится количество найденных страниц вакансий - для корректного сбора данных Вам нужно пробежать по **КАЖДОЙ** странице и сделать соотвествующие запросы."
      ],
      "metadata": {
        "id": "O-qAwsmrTAvQ"
      }
    },
    {
      "cell_type": "markdown",
      "source": [
        ">**Совет**\n",
        ">\n",
        ">Посмотрите что хранится в `items`!"
      ],
      "metadata": {
        "id": "OEPOQVYxsMyN"
      }
    },
    {
      "cell_type": "markdown",
      "source": [
        "(1 балл) Выберете для нас 5 наиболее интересных специальностей и получите по ним имеющиеся вакансии:"
      ],
      "metadata": {
        "id": "JWvkFrh9qhkj"
      }
    },
    {
      "cell_type": "code",
      "source": [
        "import time\n",
        "def get_vacancy_count(keyword):\n",
        "    url = 'https://api.hh.ru/vacancies'\n",
        "    params = {'text': keyword, 'per_page': 100, 'area': 1,}\n",
        "    time.sleep(0.1)\n",
        "    response = requests.get(url, params=params)\n",
        "    if response.status_code == 200:\n",
        "        data = response.json()\n",
        "        return data\n",
        "    else:\n",
        "        return 0\n",
        "\n",
        "a = ['Data Scientist', 'c++ developer', 'тестировщик', 'python developer', 'сварщик']\n",
        "data = {}\n",
        "for keyword in a:\n",
        "    data[keyword] = get_vacancy_count(keyword)"
      ],
      "metadata": {
        "id": "_Nm-vyiBqugq"
      },
      "execution_count": 7,
      "outputs": []
    },
    {
      "cell_type": "markdown",
      "source": [
        "(1 балл) Посчитайте сколько всего найдено вакансий:"
      ],
      "metadata": {
        "id": "g0bdgyNWquuY"
      }
    },
    {
      "cell_type": "code",
      "source": [
        "ans  = 0\n",
        "for keyword in a:\n",
        "    count = data[keyword]['found']\n",
        "    ans += count\n",
        "    print(f\"Количество вакансий для {keyword}: {count}\")\n",
        "print('всего доступно вакансий:', ans)"
      ],
      "metadata": {
        "id": "lxyXtIs6q5cc",
        "colab": {
          "base_uri": "https://localhost:8080/"
        },
        "outputId": "d3f9900f-cd99-4937-a643-d28765dea623"
      },
      "execution_count": 8,
      "outputs": [
        {
          "output_type": "stream",
          "name": "stdout",
          "text": [
            "Количество вакансий для Data Scientist: 267\n",
            "Количество вакансий для c++ developer: 1471\n",
            "Количество вакансий для тестировщик: 1803\n",
            "Количество вакансий для python developer: 4253\n",
            "Количество вакансий для сварщик: 527\n",
            "всего доступно вакансий: 8321\n"
          ]
        }
      ]
    },
    {
      "cell_type": "markdown",
      "source": [
        "(1 балл) Создайте структуру данных, которая будет хранить в себе имя компании и ее координаты (широта и долгота):"
      ],
      "metadata": {
        "id": "wQeULnNyq5wk"
      }
    },
    {
      "cell_type": "code",
      "source": [
        "class Company:\n",
        "    def __init__(self, company_name, latitude, longitude):\n",
        "        self.company_name = company_name\n",
        "        self.latitude = latitude\n",
        "        self.longitude = longitude"
      ],
      "metadata": {
        "id": "aR501yltVdLm"
      },
      "execution_count": 89,
      "outputs": []
    },
    {
      "cell_type": "markdown",
      "source": [
        "(1 балл) Создайте экземпляр этой структуры данных для каждой компании, которая выставила вакансию:"
      ],
      "metadata": {
        "id": "ccIi3wIvVkG0"
      }
    },
    {
      "cell_type": "code",
      "source": [
        "for company in companies:\n",
        "    print(f\"Имя компании: {company.company_name}\")\n",
        "    print(f\"Широта: {company.latitude}\")\n",
        "    print(f\"Долгота: {company.longitude}\")\n",
        "    print()"
      ],
      "metadata": {
        "id": "tR6mYW7jtcCQ"
      },
      "execution_count": null,
      "outputs": []
    },
    {
      "cell_type": "markdown",
      "source": [
        "(1 балл) Найдите количество вакансий, у которых заданы координаты (значения данных может быть пустым):"
      ],
      "metadata": {
        "id": "SyBpNd0vtcNu"
      }
    },
    {
      "cell_type": "code",
      "source": [
        "# your code here"
      ],
      "metadata": {
        "id": "lVgNCVALt2qJ"
      },
      "execution_count": null,
      "outputs": []
    },
    {
      "cell_type": "markdown",
      "source": [
        "(1 балл) Отберите вакансии, которые расположены в пределах МКАД (можно грубо):"
      ],
      "metadata": {
        "id": "aWNXrM-cu5Vi"
      }
    },
    {
      "cell_type": "code",
      "source": [
        "# your code here"
      ],
      "metadata": {
        "id": "01g9wVEyyn-J"
      },
      "execution_count": null,
      "outputs": []
    },
    {
      "cell_type": "markdown",
      "source": [
        "(1 балл) Постройте график в координатах \"широта-долгота\" для отображения вакансий внутри МКАД (не забывайте прописать прозрачность, чтобы увидеть скопления):"
      ],
      "metadata": {
        "id": "4LCb9IL_bgB_"
      }
    },
    {
      "cell_type": "code",
      "source": [
        "# your code here"
      ],
      "metadata": {
        "id": "6ogiXDvKcDV8"
      },
      "execution_count": null,
      "outputs": []
    },
    {
      "cell_type": "markdown",
      "source": [
        "(1 балл) Нанесите все точки вакансий на карту (для этого вам поможет данная <a target=\"_blank\" href=\"https://plotly.com/python/mapbox-layers/\">документации</a>, не забудьте про прозрачность и центрирование по Москве): "
      ],
      "metadata": {
        "id": "YvS8b7eqt214"
      }
    },
    {
      "cell_type": "code",
      "source": [
        "# your code here"
      ],
      "metadata": {
        "id": "1ceHEBdAys8o"
      },
      "execution_count": null,
      "outputs": []
    },
    {
      "cell_type": "markdown",
      "source": [
        "(2 балла) **Сделайте выводы о проделанной работе:**"
      ],
      "metadata": {
        "id": "u-p3Llc361PN"
      }
    },
    {
      "cell_type": "markdown",
      "source": [
        ">*Подсказки для маленьких: Что вы можете сказать про районы Москвы? Что вы можете сказать про зарплаты? Что вы можете сказать про спрос?*"
      ],
      "metadata": {
        "id": "G1c3d-qALobz"
      }
    },
    {
      "cell_type": "markdown",
      "source": [
        "Ваши выводы здесь :)"
      ],
      "metadata": {
        "id": "gkPpbtBuVqwc"
      }
    },
    {
      "cell_type": "markdown",
      "source": [
        "## Задание 2. Анализ данных - 20 баллов"
      ],
      "metadata": {
        "id": "wVcCTF_Zz58q"
      }
    },
    {
      "cell_type": "markdown",
      "source": [
        "Вам предстоит проанализировать датасет, содержащий информацию об бриллианта, их стоимости и остальных характеристиках."
      ],
      "metadata": {
        "id": "lii5YFuucxR2"
      }
    },
    {
      "cell_type": "markdown",
      "source": [
        "\n",
        "\n",
        "Поясним значения хранящиеся в колонках:\n",
        "*   `cut` - огранка бриллианта (относится к одной из примерно 10 наиболее распространенных)\n",
        "*   `color` - цвет бриллианта, прозрачные бриллианты имеют градацию `D-Z`, \"более высокие\" буквы - более желтоватые, но часто имеют лучшие значения, поскольку цвет трудно определить один раз в кольце\n",
        "*   `clarity` - чистота бриллианта, наличие включений (внутренних дефектов), чем меньше и мельче, тем лучше\n",
        "*   `carat_weight` - масса бриллианта (слабо связана с размером бриллианта, т.к. огранка и качество огранки, как правило, играют большую роль)\n",
        "*   `cut_quality` - качество ограники по системе оценки GIA Cut\n",
        "*   `lab` - лаборатория оценивания\n",
        "*   `meas_length` - длина бриллианта\n",
        "*   `meas_width` - ширина бриллианта\n",
        "*   `meas_depth` - глубина бриллианта\n",
        "*   `total_sales_price` - цена бриллианта в долларах.\n",
        "*    **и прочие колонки**"
      ],
      "metadata": {
        "id": "CvEO3-NI0Gez"
      }
    },
    {
      "cell_type": "markdown",
      "source": [
        "Скачаем данные:"
      ],
      "metadata": {
        "id": "7mK1QntN6ZXh"
      }
    },
    {
      "cell_type": "code",
      "source": [
        "!gdown 1uIWeZFz3ElB5p1brBVEwJBHTbjXNPdfU"
      ],
      "metadata": {
        "id": "LnCK3gCoebjw",
        "colab": {
          "base_uri": "https://localhost:8080/"
        },
        "outputId": "7973bdd9-5e9b-42b5-8808-624d726c16c0"
      },
      "execution_count": 10,
      "outputs": [
        {
          "output_type": "stream",
          "name": "stdout",
          "text": [
            "Downloading...\n",
            "From: https://drive.google.com/uc?id=1uIWeZFz3ElB5p1brBVEwJBHTbjXNPdfU\n",
            "To: /content/diamonds.csv\n",
            "100% 35.4M/35.4M [00:00<00:00, 62.1MB/s]\n"
          ]
        }
      ]
    },
    {
      "cell_type": "markdown",
      "source": [
        "Создадим DataFrame:"
      ],
      "metadata": {
        "id": "wfSqVYoIfi3-"
      }
    },
    {
      "cell_type": "code",
      "source": [
        "diamonds = pd.read_csv(\"diamonds.csv\")"
      ],
      "metadata": {
        "id": "cDgRJzRp6Ow4"
      },
      "execution_count": 11,
      "outputs": []
    },
    {
      "cell_type": "markdown",
      "source": [
        "(0.5 балла) Выведете первые 5 строк датасета:"
      ],
      "metadata": {
        "id": "vlw_3lXG6bhv"
      }
    },
    {
      "cell_type": "code",
      "source": [
        "diamonds.head(5)"
      ],
      "metadata": {
        "id": "gHA-AnSE6fth",
        "colab": {
          "base_uri": "https://localhost:8080/",
          "height": 403
        },
        "outputId": "e9f090e8-141b-45f7-974b-5580cf365d7f"
      },
      "execution_count": 12,
      "outputs": [
        {
          "output_type": "execute_result",
          "data": {
            "text/plain": [
              "   Unnamed: 0    cut color clarity  carat_weight cut_quality  lab   symmetry  \\\n",
              "0           0  Round     E    VVS2          0.09   Excellent  IGI  Very Good   \n",
              "1           1  Round     E    VVS2          0.09   Very Good  IGI  Very Good   \n",
              "2           2  Round     E    VVS2          0.09   Excellent  IGI  Very Good   \n",
              "3           3  Round     E    VVS2          0.09   Excellent  IGI  Very Good   \n",
              "4           4  Round     E    VVS2          0.09   Very Good  IGI  Very Good   \n",
              "\n",
              "      polish eye_clean  ... meas_depth girdle_min  girdle_max  fluor_color  \\\n",
              "0  Very Good   unknown  ...       1.79          M           M      unknown   \n",
              "1  Very Good   unknown  ...       1.78        STK         STK      unknown   \n",
              "2  Very Good   unknown  ...       1.77         TN           M      unknown   \n",
              "3  Very Good   unknown  ...       1.78          M         STK      unknown   \n",
              "4  Excellent   unknown  ...       1.82        STK         STK      unknown   \n",
              "\n",
              "   fluor_intensity  fancy_color_dominant_color  fancy_color_secondary_color  \\\n",
              "0             None                     unknown                      unknown   \n",
              "1             None                     unknown                      unknown   \n",
              "2             None                     unknown                      unknown   \n",
              "3             None                     unknown                      unknown   \n",
              "4             None                     unknown                      unknown   \n",
              "\n",
              "  fancy_color_overtone fancy_color_intensity total_sales_price  \n",
              "0              unknown               unknown               200  \n",
              "1              unknown               unknown               200  \n",
              "2              unknown               unknown               200  \n",
              "3              unknown               unknown               200  \n",
              "4              unknown               unknown               200  \n",
              "\n",
              "[5 rows x 26 columns]"
            ],
            "text/html": [
              "\n",
              "  <div id=\"df-6d82dab7-9dc5-4d95-8a65-75aa0aa97afc\">\n",
              "    <div class=\"colab-df-container\">\n",
              "      <div>\n",
              "<style scoped>\n",
              "    .dataframe tbody tr th:only-of-type {\n",
              "        vertical-align: middle;\n",
              "    }\n",
              "\n",
              "    .dataframe tbody tr th {\n",
              "        vertical-align: top;\n",
              "    }\n",
              "\n",
              "    .dataframe thead th {\n",
              "        text-align: right;\n",
              "    }\n",
              "</style>\n",
              "<table border=\"1\" class=\"dataframe\">\n",
              "  <thead>\n",
              "    <tr style=\"text-align: right;\">\n",
              "      <th></th>\n",
              "      <th>Unnamed: 0</th>\n",
              "      <th>cut</th>\n",
              "      <th>color</th>\n",
              "      <th>clarity</th>\n",
              "      <th>carat_weight</th>\n",
              "      <th>cut_quality</th>\n",
              "      <th>lab</th>\n",
              "      <th>symmetry</th>\n",
              "      <th>polish</th>\n",
              "      <th>eye_clean</th>\n",
              "      <th>...</th>\n",
              "      <th>meas_depth</th>\n",
              "      <th>girdle_min</th>\n",
              "      <th>girdle_max</th>\n",
              "      <th>fluor_color</th>\n",
              "      <th>fluor_intensity</th>\n",
              "      <th>fancy_color_dominant_color</th>\n",
              "      <th>fancy_color_secondary_color</th>\n",
              "      <th>fancy_color_overtone</th>\n",
              "      <th>fancy_color_intensity</th>\n",
              "      <th>total_sales_price</th>\n",
              "    </tr>\n",
              "  </thead>\n",
              "  <tbody>\n",
              "    <tr>\n",
              "      <th>0</th>\n",
              "      <td>0</td>\n",
              "      <td>Round</td>\n",
              "      <td>E</td>\n",
              "      <td>VVS2</td>\n",
              "      <td>0.09</td>\n",
              "      <td>Excellent</td>\n",
              "      <td>IGI</td>\n",
              "      <td>Very Good</td>\n",
              "      <td>Very Good</td>\n",
              "      <td>unknown</td>\n",
              "      <td>...</td>\n",
              "      <td>1.79</td>\n",
              "      <td>M</td>\n",
              "      <td>M</td>\n",
              "      <td>unknown</td>\n",
              "      <td>None</td>\n",
              "      <td>unknown</td>\n",
              "      <td>unknown</td>\n",
              "      <td>unknown</td>\n",
              "      <td>unknown</td>\n",
              "      <td>200</td>\n",
              "    </tr>\n",
              "    <tr>\n",
              "      <th>1</th>\n",
              "      <td>1</td>\n",
              "      <td>Round</td>\n",
              "      <td>E</td>\n",
              "      <td>VVS2</td>\n",
              "      <td>0.09</td>\n",
              "      <td>Very Good</td>\n",
              "      <td>IGI</td>\n",
              "      <td>Very Good</td>\n",
              "      <td>Very Good</td>\n",
              "      <td>unknown</td>\n",
              "      <td>...</td>\n",
              "      <td>1.78</td>\n",
              "      <td>STK</td>\n",
              "      <td>STK</td>\n",
              "      <td>unknown</td>\n",
              "      <td>None</td>\n",
              "      <td>unknown</td>\n",
              "      <td>unknown</td>\n",
              "      <td>unknown</td>\n",
              "      <td>unknown</td>\n",
              "      <td>200</td>\n",
              "    </tr>\n",
              "    <tr>\n",
              "      <th>2</th>\n",
              "      <td>2</td>\n",
              "      <td>Round</td>\n",
              "      <td>E</td>\n",
              "      <td>VVS2</td>\n",
              "      <td>0.09</td>\n",
              "      <td>Excellent</td>\n",
              "      <td>IGI</td>\n",
              "      <td>Very Good</td>\n",
              "      <td>Very Good</td>\n",
              "      <td>unknown</td>\n",
              "      <td>...</td>\n",
              "      <td>1.77</td>\n",
              "      <td>TN</td>\n",
              "      <td>M</td>\n",
              "      <td>unknown</td>\n",
              "      <td>None</td>\n",
              "      <td>unknown</td>\n",
              "      <td>unknown</td>\n",
              "      <td>unknown</td>\n",
              "      <td>unknown</td>\n",
              "      <td>200</td>\n",
              "    </tr>\n",
              "    <tr>\n",
              "      <th>3</th>\n",
              "      <td>3</td>\n",
              "      <td>Round</td>\n",
              "      <td>E</td>\n",
              "      <td>VVS2</td>\n",
              "      <td>0.09</td>\n",
              "      <td>Excellent</td>\n",
              "      <td>IGI</td>\n",
              "      <td>Very Good</td>\n",
              "      <td>Very Good</td>\n",
              "      <td>unknown</td>\n",
              "      <td>...</td>\n",
              "      <td>1.78</td>\n",
              "      <td>M</td>\n",
              "      <td>STK</td>\n",
              "      <td>unknown</td>\n",
              "      <td>None</td>\n",
              "      <td>unknown</td>\n",
              "      <td>unknown</td>\n",
              "      <td>unknown</td>\n",
              "      <td>unknown</td>\n",
              "      <td>200</td>\n",
              "    </tr>\n",
              "    <tr>\n",
              "      <th>4</th>\n",
              "      <td>4</td>\n",
              "      <td>Round</td>\n",
              "      <td>E</td>\n",
              "      <td>VVS2</td>\n",
              "      <td>0.09</td>\n",
              "      <td>Very Good</td>\n",
              "      <td>IGI</td>\n",
              "      <td>Very Good</td>\n",
              "      <td>Excellent</td>\n",
              "      <td>unknown</td>\n",
              "      <td>...</td>\n",
              "      <td>1.82</td>\n",
              "      <td>STK</td>\n",
              "      <td>STK</td>\n",
              "      <td>unknown</td>\n",
              "      <td>None</td>\n",
              "      <td>unknown</td>\n",
              "      <td>unknown</td>\n",
              "      <td>unknown</td>\n",
              "      <td>unknown</td>\n",
              "      <td>200</td>\n",
              "    </tr>\n",
              "  </tbody>\n",
              "</table>\n",
              "<p>5 rows × 26 columns</p>\n",
              "</div>\n",
              "      <button class=\"colab-df-convert\" onclick=\"convertToInteractive('df-6d82dab7-9dc5-4d95-8a65-75aa0aa97afc')\"\n",
              "              title=\"Convert this dataframe to an interactive table.\"\n",
              "              style=\"display:none;\">\n",
              "        \n",
              "  <svg xmlns=\"http://www.w3.org/2000/svg\" height=\"24px\"viewBox=\"0 0 24 24\"\n",
              "       width=\"24px\">\n",
              "    <path d=\"M0 0h24v24H0V0z\" fill=\"none\"/>\n",
              "    <path d=\"M18.56 5.44l.94 2.06.94-2.06 2.06-.94-2.06-.94-.94-2.06-.94 2.06-2.06.94zm-11 1L8.5 8.5l.94-2.06 2.06-.94-2.06-.94L8.5 2.5l-.94 2.06-2.06.94zm10 10l.94 2.06.94-2.06 2.06-.94-2.06-.94-.94-2.06-.94 2.06-2.06.94z\"/><path d=\"M17.41 7.96l-1.37-1.37c-.4-.4-.92-.59-1.43-.59-.52 0-1.04.2-1.43.59L10.3 9.45l-7.72 7.72c-.78.78-.78 2.05 0 2.83L4 21.41c.39.39.9.59 1.41.59.51 0 1.02-.2 1.41-.59l7.78-7.78 2.81-2.81c.8-.78.8-2.07 0-2.86zM5.41 20L4 18.59l7.72-7.72 1.47 1.35L5.41 20z\"/>\n",
              "  </svg>\n",
              "      </button>\n",
              "      \n",
              "  <style>\n",
              "    .colab-df-container {\n",
              "      display:flex;\n",
              "      flex-wrap:wrap;\n",
              "      gap: 12px;\n",
              "    }\n",
              "\n",
              "    .colab-df-convert {\n",
              "      background-color: #E8F0FE;\n",
              "      border: none;\n",
              "      border-radius: 50%;\n",
              "      cursor: pointer;\n",
              "      display: none;\n",
              "      fill: #1967D2;\n",
              "      height: 32px;\n",
              "      padding: 0 0 0 0;\n",
              "      width: 32px;\n",
              "    }\n",
              "\n",
              "    .colab-df-convert:hover {\n",
              "      background-color: #E2EBFA;\n",
              "      box-shadow: 0px 1px 2px rgba(60, 64, 67, 0.3), 0px 1px 3px 1px rgba(60, 64, 67, 0.15);\n",
              "      fill: #174EA6;\n",
              "    }\n",
              "\n",
              "    [theme=dark] .colab-df-convert {\n",
              "      background-color: #3B4455;\n",
              "      fill: #D2E3FC;\n",
              "    }\n",
              "\n",
              "    [theme=dark] .colab-df-convert:hover {\n",
              "      background-color: #434B5C;\n",
              "      box-shadow: 0px 1px 3px 1px rgba(0, 0, 0, 0.15);\n",
              "      filter: drop-shadow(0px 1px 2px rgba(0, 0, 0, 0.3));\n",
              "      fill: #FFFFFF;\n",
              "    }\n",
              "  </style>\n",
              "\n",
              "      <script>\n",
              "        const buttonEl =\n",
              "          document.querySelector('#df-6d82dab7-9dc5-4d95-8a65-75aa0aa97afc button.colab-df-convert');\n",
              "        buttonEl.style.display =\n",
              "          google.colab.kernel.accessAllowed ? 'block' : 'none';\n",
              "\n",
              "        async function convertToInteractive(key) {\n",
              "          const element = document.querySelector('#df-6d82dab7-9dc5-4d95-8a65-75aa0aa97afc');\n",
              "          const dataTable =\n",
              "            await google.colab.kernel.invokeFunction('convertToInteractive',\n",
              "                                                     [key], {});\n",
              "          if (!dataTable) return;\n",
              "\n",
              "          const docLinkHtml = 'Like what you see? Visit the ' +\n",
              "            '<a target=\"_blank\" href=https://colab.research.google.com/notebooks/data_table.ipynb>data table notebook</a>'\n",
              "            + ' to learn more about interactive tables.';\n",
              "          element.innerHTML = '';\n",
              "          dataTable['output_type'] = 'display_data';\n",
              "          await google.colab.output.renderOutput(dataTable, element);\n",
              "          const docLink = document.createElement('div');\n",
              "          docLink.innerHTML = docLinkHtml;\n",
              "          element.appendChild(docLink);\n",
              "        }\n",
              "      </script>\n",
              "    </div>\n",
              "  </div>\n",
              "  "
            ]
          },
          "metadata": {},
          "execution_count": 12
        }
      ]
    },
    {
      "cell_type": "markdown",
      "source": [
        "(0.5 балла) Найдите количество бриллиантов всего в данном датасете:"
      ],
      "metadata": {
        "id": "gat7bnPQ6fCE"
      }
    },
    {
      "cell_type": "code",
      "source": [
        "diamonds.shape[0]"
      ],
      "metadata": {
        "id": "-9x6z3-J7C-v",
        "colab": {
          "base_uri": "https://localhost:8080/"
        },
        "outputId": "94bd04e3-cbba-424a-f5c2-b352a826a66e"
      },
      "execution_count": 13,
      "outputs": [
        {
          "output_type": "execute_result",
          "data": {
            "text/plain": [
              "219703"
            ]
          },
          "metadata": {},
          "execution_count": 13
        }
      ]
    },
    {
      "cell_type": "markdown",
      "source": [
        "(0.5 балла) Выведите максимальную и минимальную цену бриллианта в формате `номер - цена`:"
      ],
      "metadata": {
        "id": "fYQuIdtL7DFp"
      }
    },
    {
      "cell_type": "code",
      "source": [
        "#если нужна нумерация с единицы, то нужно к номрам прибавить 1\n",
        "max_value = diamonds['total_sales_price'].max()\n",
        "min_value = diamonds['total_sales_price'].min()\n",
        "\n",
        "max_index = diamonds[diamonds['total_sales_price'] == max_value].index[0]\n",
        "min_index = diamonds[diamonds['total_sales_price'] == min_value].index[0]\n",
        "print (\"min, number:\", min_index, \"price:\", min_value)\n",
        "print (\"max, number:\", max_index, \"price:\", max_value)"
      ],
      "metadata": {
        "id": "D_7sjzjP7SEj",
        "colab": {
          "base_uri": "https://localhost:8080/"
        },
        "outputId": "6bf34d1b-ee8a-4996-bd31-abb56976ea3c"
      },
      "execution_count": 14,
      "outputs": [
        {
          "output_type": "stream",
          "name": "stdout",
          "text": [
            "min, number: 0 price: 200\n",
            "max, number: 219702 price: 1449881\n"
          ]
        }
      ]
    },
    {
      "cell_type": "markdown",
      "source": [
        "(1 балл) Посчитайте количество пропусков (пропуском считается значение `unknown` или `None`):"
      ],
      "metadata": {
        "id": "E2mf4IIO7SOg"
      }
    },
    {
      "cell_type": "code",
      "source": [
        "value_to_count = 'unknown'\n",
        "num_cells = (diamonds == value_to_count).sum().sum()\n",
        "value_to_count = 'None'\n",
        "num_cells += (diamonds == value_to_count).sum().sum()\n",
        "num_cells"
      ],
      "metadata": {
        "id": "BuJZ0UoN7qAU",
        "colab": {
          "base_uri": "https://localhost:8080/"
        },
        "outputId": "2179f8b9-d316-4835-97db-83be36e0737b"
      },
      "execution_count": 15,
      "outputs": [
        {
          "output_type": "execute_result",
          "data": {
            "text/plain": [
              "1891168"
            ]
          },
          "metadata": {},
          "execution_count": 15
        }
      ]
    },
    {
      "cell_type": "markdown",
      "source": [
        "(1 балл) Найдите в каких столбцах присутствуют пропуски:"
      ],
      "metadata": {
        "id": "d5LWUc_fh0vb"
      }
    },
    {
      "cell_type": "code",
      "source": [
        "value1 = 'unknown'\n",
        "value2 = 'None'\n",
        "columns_with_value = diamonds.columns[diamonds.isin([value1, value2]).any()].tolist()\n",
        "for x in columns_with_value:\n",
        "  print(x)"
      ],
      "metadata": {
        "id": "IsU49Fouh5vy",
        "colab": {
          "base_uri": "https://localhost:8080/"
        },
        "outputId": "4130a806-4052-4cf3-8d16-e287b5fdaf95"
      },
      "execution_count": 16,
      "outputs": [
        {
          "output_type": "stream",
          "name": "stdout",
          "text": [
            "color\n",
            "cut_quality\n",
            "eye_clean\n",
            "culet_size\n",
            "culet_condition\n",
            "girdle_min\n",
            "girdle_max\n",
            "fluor_color\n",
            "fluor_intensity\n",
            "fancy_color_dominant_color\n",
            "fancy_color_secondary_color\n",
            "fancy_color_overtone\n",
            "fancy_color_intensity\n"
          ]
        }
      ]
    },
    {
      "cell_type": "markdown",
      "source": [
        "В нашем датасете присутствуют колонки, которые начинаются с `fancy_color_` или `fluor_`. Большинство значений в этих колонках - `unknown` или `None`, поэтому мы считаем их малоинформативными. "
      ],
      "metadata": {
        "id": "UznNZpJ47qGX"
      }
    },
    {
      "cell_type": "markdown",
      "source": [
        "Ваша задача:"
      ],
      "metadata": {
        "id": "Rkk6Hr2Ui87X"
      }
    },
    {
      "cell_type": "markdown",
      "source": [
        "1. (0.5 балла) найти количество таких колонок, которые начинаются с `fancy_color_` или `fluor_`:"
      ],
      "metadata": {
        "id": "YYBDAgSSi-JU"
      }
    },
    {
      "cell_type": "code",
      "source": [
        "matching_columns = [col for col in diamonds.columns if col.startswith('fancy_color_') or col.startswith('fluor_')]\n",
        "num_matching_columns = len(matching_columns)\n",
        "print(\"Количество столбцов, начинающихся с 'fancy_color_' или 'fluor_':\", num_matching_columns)"
      ],
      "metadata": {
        "id": "nbTUkk4T8-wO",
        "colab": {
          "base_uri": "https://localhost:8080/"
        },
        "outputId": "bce91471-146f-41bb-b7ab-f1c15c56a392"
      },
      "execution_count": 17,
      "outputs": [
        {
          "output_type": "stream",
          "name": "stdout",
          "text": [
            "Количество столбцов, начинающихся с 'fancy_color_' или 'fluor_': 6\n"
          ]
        }
      ]
    },
    {
      "cell_type": "markdown",
      "source": [
        "2. (0.5 балла) найти количество информативных (не `None` или `unknown`) значений в этих колонках: "
      ],
      "metadata": {
        "id": "imop6nNujA6z"
      }
    },
    {
      "cell_type": "code",
      "source": [
        "num_informative_values = diamonds[matching_columns].apply(lambda col: col[(col !=None) & (col != 'unknown')]).count()\n",
        "num_informative_values"
      ],
      "metadata": {
        "id": "jtJcBwAVjPHU",
        "colab": {
          "base_uri": "https://localhost:8080/"
        },
        "outputId": "1d3a4627-1a2d-4622-a149-e002b3900c79"
      },
      "execution_count": 18,
      "outputs": [
        {
          "output_type": "execute_result",
          "data": {
            "text/plain": [
              "fluor_color                     15726\n",
              "fluor_intensity                219575\n",
              "fancy_color_dominant_color       9164\n",
              "fancy_color_secondary_color      1062\n",
              "fancy_color_overtone             2038\n",
              "fancy_color_intensity            9162\n",
              "dtype: int64"
            ]
          },
          "metadata": {},
          "execution_count": 18
        }
      ]
    },
    {
      "cell_type": "markdown",
      "source": [
        "3. (0.5 балла) удалить данные колонки из датасета, сохранив изменения (в дальнейшем работаем измененным датасетом):"
      ],
      "metadata": {
        "id": "wFbuTnkbjPeq"
      }
    },
    {
      "cell_type": "code",
      "source": [
        "diamonds = diamonds.drop(columns=matching_columns)"
      ],
      "metadata": {
        "id": "qSZ5cmKWjutz"
      },
      "execution_count": 19,
      "outputs": []
    },
    {
      "cell_type": "markdown",
      "source": [
        "(1 балл) Проделайте тоже самое для колонок, начинающихся с `culet_`:"
      ],
      "metadata": {
        "id": "JID3q4vr8-2h"
      }
    },
    {
      "cell_type": "code",
      "source": [
        "matching_columns = [col for col in diamonds.columns if col.startswith('culet_')]\n",
        "num_matching_columns = len(matching_columns)\n",
        "print(\"Количество столбцов, начинающихся с 'culet_':\", num_matching_columns)\n",
        "num_informative_values = diamonds[matching_columns].apply(lambda col: col[(col !=None) & (col != 'unknown')]).count()\n",
        "print(*num_informative_values)\n",
        "diamonds = diamonds.drop(columns=matching_columns)"
      ],
      "metadata": {
        "id": "Wfsvzyad-T6P",
        "colab": {
          "base_uri": "https://localhost:8080/"
        },
        "outputId": "81da2195-cf25-4444-ea79-7b5536753845"
      },
      "execution_count": 20,
      "outputs": [
        {
          "output_type": "stream",
          "name": "stdout",
          "text": [
            "Количество столбцов, начинающихся с 'culet_': 2\n",
            "133963 15319\n"
          ]
        }
      ]
    },
    {
      "cell_type": "markdown",
      "source": [
        "(1 балл) Посчитайте сколько бы стоил (в тысячах долларов) сейф, в котором хранились бы все бриллианты из датасета:"
      ],
      "metadata": {
        "id": "7_qYv5Xm-UCz"
      }
    },
    {
      "cell_type": "code",
      "source": [
        "column_to_sum = 'total_sales_price'\n",
        "sum_by_column = diamonds[column_to_sum].sum()\n",
        "sum_by_column /= 1000\n",
        "sum_by_column"
      ],
      "metadata": {
        "id": "g2wVyz5U-cx7",
        "colab": {
          "base_uri": "https://localhost:8080/"
        },
        "outputId": "89601522-cb72-4fb3-cc99-309a7f19bb46"
      },
      "execution_count": 21,
      "outputs": [
        {
          "output_type": "execute_result",
          "data": {
            "text/plain": [
              "1517721.991"
            ]
          },
          "metadata": {},
          "execution_count": 21
        }
      ]
    },
    {
      "cell_type": "markdown",
      "source": [
        "Немного необоснованных манипуляций."
      ],
      "metadata": {
        "id": "GVwspHrUkRFv"
      }
    },
    {
      "cell_type": "markdown",
      "source": [
        "(1 балл) Выберите из датасета строки с четными индексами и выведете значения (не меняя нумерацию индексов):"
      ],
      "metadata": {
        "id": "0j5Yr0mFxxfu"
      }
    },
    {
      "cell_type": "code",
      "source": [
        "even_index_rows = diamonds.iloc[::2]\n",
        "even_index_rows"
      ],
      "metadata": {
        "id": "dW2GOROfx6yd",
        "colab": {
          "base_uri": "https://localhost:8080/",
          "height": 609
        },
        "outputId": "f5b49a42-5e9a-42f3-ad9e-869eccaa22f4"
      },
      "execution_count": 22,
      "outputs": [
        {
          "output_type": "execute_result",
          "data": {
            "text/plain": [
              "        Unnamed: 0    cut    color clarity  carat_weight cut_quality  lab  \\\n",
              "0                0  Round        E    VVS2          0.09   Excellent  IGI   \n",
              "2                2  Round        E    VVS2          0.09   Excellent  IGI   \n",
              "4                4  Round        E    VVS2          0.09   Very Good  IGI   \n",
              "6                6  Round        E    VVS2          0.09   Very Good  IGI   \n",
              "8                8  Round        E    VVS2          0.09   Very Good  IGI   \n",
              "...            ...    ...      ...     ...           ...         ...  ...   \n",
              "219694      219695  Round        D      IF         12.52   Excellent  HRD   \n",
              "219696      219697   Oval        H     VS2         18.88     unknown  GIA   \n",
              "219698      219699  Round        E     VS1         10.65   Excellent  GIA   \n",
              "219700      219701  Round        E     VS1         18.07   Excellent  GIA   \n",
              "219702      219703   Pear  unknown    VVS2         10.03     unknown  GIA   \n",
              "\n",
              "         symmetry     polish eye_clean  depth_percent  table_percent  \\\n",
              "0       Very Good  Very Good   unknown           62.7           59.0   \n",
              "2       Very Good  Very Good   unknown           61.1           59.0   \n",
              "4       Very Good  Excellent   unknown           64.9           58.5   \n",
              "6       Very Good  Very Good   unknown           64.0           57.0   \n",
              "8       Very Good  Very Good   unknown           63.5           59.5   \n",
              "...           ...        ...       ...            ...            ...   \n",
              "219694  Excellent  Excellent   unknown           62.1           58.0   \n",
              "219696  Excellent  Excellent   unknown           57.1           55.0   \n",
              "219698  Excellent  Excellent   unknown           61.3           58.0   \n",
              "219700  Excellent  Excellent   unknown           60.2           59.0   \n",
              "219702  Very Good  Excellent   unknown           66.7           65.0   \n",
              "\n",
              "        meas_length  meas_width  meas_depth girdle_min girdle_max  \\\n",
              "0              2.85        2.87        1.79          M          M   \n",
              "2              2.88        2.90        1.77         TN          M   \n",
              "4              2.79        2.83        1.82        STK        STK   \n",
              "6              2.85        2.88        1.84        STK        STK   \n",
              "8              2.89        2.92        1.85        STK         TK   \n",
              "...             ...         ...         ...        ...        ...   \n",
              "219694        14.84       14.91        9.24    unknown    unknown   \n",
              "219696        21.34       15.23        8.69         TN        STK   \n",
              "219698        14.06       14.18        8.66          M        STK   \n",
              "219700        17.06       17.10       10.20         TN          M   \n",
              "219702        15.61       11.09        7.39    unknown    unknown   \n",
              "\n",
              "        total_sales_price  \n",
              "0                     200  \n",
              "2                     200  \n",
              "4                     200  \n",
              "6                     200  \n",
              "8                     200  \n",
              "...                   ...  \n",
              "219694            1121792  \n",
              "219696            1132347  \n",
              "219698            1210692  \n",
              "219700            1315496  \n",
              "219702            1449881  \n",
              "\n",
              "[109852 rows x 18 columns]"
            ],
            "text/html": [
              "\n",
              "  <div id=\"df-1a37b6d1-e8c5-4bfe-8de0-67ae7f131c8e\">\n",
              "    <div class=\"colab-df-container\">\n",
              "      <div>\n",
              "<style scoped>\n",
              "    .dataframe tbody tr th:only-of-type {\n",
              "        vertical-align: middle;\n",
              "    }\n",
              "\n",
              "    .dataframe tbody tr th {\n",
              "        vertical-align: top;\n",
              "    }\n",
              "\n",
              "    .dataframe thead th {\n",
              "        text-align: right;\n",
              "    }\n",
              "</style>\n",
              "<table border=\"1\" class=\"dataframe\">\n",
              "  <thead>\n",
              "    <tr style=\"text-align: right;\">\n",
              "      <th></th>\n",
              "      <th>Unnamed: 0</th>\n",
              "      <th>cut</th>\n",
              "      <th>color</th>\n",
              "      <th>clarity</th>\n",
              "      <th>carat_weight</th>\n",
              "      <th>cut_quality</th>\n",
              "      <th>lab</th>\n",
              "      <th>symmetry</th>\n",
              "      <th>polish</th>\n",
              "      <th>eye_clean</th>\n",
              "      <th>depth_percent</th>\n",
              "      <th>table_percent</th>\n",
              "      <th>meas_length</th>\n",
              "      <th>meas_width</th>\n",
              "      <th>meas_depth</th>\n",
              "      <th>girdle_min</th>\n",
              "      <th>girdle_max</th>\n",
              "      <th>total_sales_price</th>\n",
              "    </tr>\n",
              "  </thead>\n",
              "  <tbody>\n",
              "    <tr>\n",
              "      <th>0</th>\n",
              "      <td>0</td>\n",
              "      <td>Round</td>\n",
              "      <td>E</td>\n",
              "      <td>VVS2</td>\n",
              "      <td>0.09</td>\n",
              "      <td>Excellent</td>\n",
              "      <td>IGI</td>\n",
              "      <td>Very Good</td>\n",
              "      <td>Very Good</td>\n",
              "      <td>unknown</td>\n",
              "      <td>62.7</td>\n",
              "      <td>59.0</td>\n",
              "      <td>2.85</td>\n",
              "      <td>2.87</td>\n",
              "      <td>1.79</td>\n",
              "      <td>M</td>\n",
              "      <td>M</td>\n",
              "      <td>200</td>\n",
              "    </tr>\n",
              "    <tr>\n",
              "      <th>2</th>\n",
              "      <td>2</td>\n",
              "      <td>Round</td>\n",
              "      <td>E</td>\n",
              "      <td>VVS2</td>\n",
              "      <td>0.09</td>\n",
              "      <td>Excellent</td>\n",
              "      <td>IGI</td>\n",
              "      <td>Very Good</td>\n",
              "      <td>Very Good</td>\n",
              "      <td>unknown</td>\n",
              "      <td>61.1</td>\n",
              "      <td>59.0</td>\n",
              "      <td>2.88</td>\n",
              "      <td>2.90</td>\n",
              "      <td>1.77</td>\n",
              "      <td>TN</td>\n",
              "      <td>M</td>\n",
              "      <td>200</td>\n",
              "    </tr>\n",
              "    <tr>\n",
              "      <th>4</th>\n",
              "      <td>4</td>\n",
              "      <td>Round</td>\n",
              "      <td>E</td>\n",
              "      <td>VVS2</td>\n",
              "      <td>0.09</td>\n",
              "      <td>Very Good</td>\n",
              "      <td>IGI</td>\n",
              "      <td>Very Good</td>\n",
              "      <td>Excellent</td>\n",
              "      <td>unknown</td>\n",
              "      <td>64.9</td>\n",
              "      <td>58.5</td>\n",
              "      <td>2.79</td>\n",
              "      <td>2.83</td>\n",
              "      <td>1.82</td>\n",
              "      <td>STK</td>\n",
              "      <td>STK</td>\n",
              "      <td>200</td>\n",
              "    </tr>\n",
              "    <tr>\n",
              "      <th>6</th>\n",
              "      <td>6</td>\n",
              "      <td>Round</td>\n",
              "      <td>E</td>\n",
              "      <td>VVS2</td>\n",
              "      <td>0.09</td>\n",
              "      <td>Very Good</td>\n",
              "      <td>IGI</td>\n",
              "      <td>Very Good</td>\n",
              "      <td>Very Good</td>\n",
              "      <td>unknown</td>\n",
              "      <td>64.0</td>\n",
              "      <td>57.0</td>\n",
              "      <td>2.85</td>\n",
              "      <td>2.88</td>\n",
              "      <td>1.84</td>\n",
              "      <td>STK</td>\n",
              "      <td>STK</td>\n",
              "      <td>200</td>\n",
              "    </tr>\n",
              "    <tr>\n",
              "      <th>8</th>\n",
              "      <td>8</td>\n",
              "      <td>Round</td>\n",
              "      <td>E</td>\n",
              "      <td>VVS2</td>\n",
              "      <td>0.09</td>\n",
              "      <td>Very Good</td>\n",
              "      <td>IGI</td>\n",
              "      <td>Very Good</td>\n",
              "      <td>Very Good</td>\n",
              "      <td>unknown</td>\n",
              "      <td>63.5</td>\n",
              "      <td>59.5</td>\n",
              "      <td>2.89</td>\n",
              "      <td>2.92</td>\n",
              "      <td>1.85</td>\n",
              "      <td>STK</td>\n",
              "      <td>TK</td>\n",
              "      <td>200</td>\n",
              "    </tr>\n",
              "    <tr>\n",
              "      <th>...</th>\n",
              "      <td>...</td>\n",
              "      <td>...</td>\n",
              "      <td>...</td>\n",
              "      <td>...</td>\n",
              "      <td>...</td>\n",
              "      <td>...</td>\n",
              "      <td>...</td>\n",
              "      <td>...</td>\n",
              "      <td>...</td>\n",
              "      <td>...</td>\n",
              "      <td>...</td>\n",
              "      <td>...</td>\n",
              "      <td>...</td>\n",
              "      <td>...</td>\n",
              "      <td>...</td>\n",
              "      <td>...</td>\n",
              "      <td>...</td>\n",
              "      <td>...</td>\n",
              "    </tr>\n",
              "    <tr>\n",
              "      <th>219694</th>\n",
              "      <td>219695</td>\n",
              "      <td>Round</td>\n",
              "      <td>D</td>\n",
              "      <td>IF</td>\n",
              "      <td>12.52</td>\n",
              "      <td>Excellent</td>\n",
              "      <td>HRD</td>\n",
              "      <td>Excellent</td>\n",
              "      <td>Excellent</td>\n",
              "      <td>unknown</td>\n",
              "      <td>62.1</td>\n",
              "      <td>58.0</td>\n",
              "      <td>14.84</td>\n",
              "      <td>14.91</td>\n",
              "      <td>9.24</td>\n",
              "      <td>unknown</td>\n",
              "      <td>unknown</td>\n",
              "      <td>1121792</td>\n",
              "    </tr>\n",
              "    <tr>\n",
              "      <th>219696</th>\n",
              "      <td>219697</td>\n",
              "      <td>Oval</td>\n",
              "      <td>H</td>\n",
              "      <td>VS2</td>\n",
              "      <td>18.88</td>\n",
              "      <td>unknown</td>\n",
              "      <td>GIA</td>\n",
              "      <td>Excellent</td>\n",
              "      <td>Excellent</td>\n",
              "      <td>unknown</td>\n",
              "      <td>57.1</td>\n",
              "      <td>55.0</td>\n",
              "      <td>21.34</td>\n",
              "      <td>15.23</td>\n",
              "      <td>8.69</td>\n",
              "      <td>TN</td>\n",
              "      <td>STK</td>\n",
              "      <td>1132347</td>\n",
              "    </tr>\n",
              "    <tr>\n",
              "      <th>219698</th>\n",
              "      <td>219699</td>\n",
              "      <td>Round</td>\n",
              "      <td>E</td>\n",
              "      <td>VS1</td>\n",
              "      <td>10.65</td>\n",
              "      <td>Excellent</td>\n",
              "      <td>GIA</td>\n",
              "      <td>Excellent</td>\n",
              "      <td>Excellent</td>\n",
              "      <td>unknown</td>\n",
              "      <td>61.3</td>\n",
              "      <td>58.0</td>\n",
              "      <td>14.06</td>\n",
              "      <td>14.18</td>\n",
              "      <td>8.66</td>\n",
              "      <td>M</td>\n",
              "      <td>STK</td>\n",
              "      <td>1210692</td>\n",
              "    </tr>\n",
              "    <tr>\n",
              "      <th>219700</th>\n",
              "      <td>219701</td>\n",
              "      <td>Round</td>\n",
              "      <td>E</td>\n",
              "      <td>VS1</td>\n",
              "      <td>18.07</td>\n",
              "      <td>Excellent</td>\n",
              "      <td>GIA</td>\n",
              "      <td>Excellent</td>\n",
              "      <td>Excellent</td>\n",
              "      <td>unknown</td>\n",
              "      <td>60.2</td>\n",
              "      <td>59.0</td>\n",
              "      <td>17.06</td>\n",
              "      <td>17.10</td>\n",
              "      <td>10.20</td>\n",
              "      <td>TN</td>\n",
              "      <td>M</td>\n",
              "      <td>1315496</td>\n",
              "    </tr>\n",
              "    <tr>\n",
              "      <th>219702</th>\n",
              "      <td>219703</td>\n",
              "      <td>Pear</td>\n",
              "      <td>unknown</td>\n",
              "      <td>VVS2</td>\n",
              "      <td>10.03</td>\n",
              "      <td>unknown</td>\n",
              "      <td>GIA</td>\n",
              "      <td>Very Good</td>\n",
              "      <td>Excellent</td>\n",
              "      <td>unknown</td>\n",
              "      <td>66.7</td>\n",
              "      <td>65.0</td>\n",
              "      <td>15.61</td>\n",
              "      <td>11.09</td>\n",
              "      <td>7.39</td>\n",
              "      <td>unknown</td>\n",
              "      <td>unknown</td>\n",
              "      <td>1449881</td>\n",
              "    </tr>\n",
              "  </tbody>\n",
              "</table>\n",
              "<p>109852 rows × 18 columns</p>\n",
              "</div>\n",
              "      <button class=\"colab-df-convert\" onclick=\"convertToInteractive('df-1a37b6d1-e8c5-4bfe-8de0-67ae7f131c8e')\"\n",
              "              title=\"Convert this dataframe to an interactive table.\"\n",
              "              style=\"display:none;\">\n",
              "        \n",
              "  <svg xmlns=\"http://www.w3.org/2000/svg\" height=\"24px\"viewBox=\"0 0 24 24\"\n",
              "       width=\"24px\">\n",
              "    <path d=\"M0 0h24v24H0V0z\" fill=\"none\"/>\n",
              "    <path d=\"M18.56 5.44l.94 2.06.94-2.06 2.06-.94-2.06-.94-.94-2.06-.94 2.06-2.06.94zm-11 1L8.5 8.5l.94-2.06 2.06-.94-2.06-.94L8.5 2.5l-.94 2.06-2.06.94zm10 10l.94 2.06.94-2.06 2.06-.94-2.06-.94-.94-2.06-.94 2.06-2.06.94z\"/><path d=\"M17.41 7.96l-1.37-1.37c-.4-.4-.92-.59-1.43-.59-.52 0-1.04.2-1.43.59L10.3 9.45l-7.72 7.72c-.78.78-.78 2.05 0 2.83L4 21.41c.39.39.9.59 1.41.59.51 0 1.02-.2 1.41-.59l7.78-7.78 2.81-2.81c.8-.78.8-2.07 0-2.86zM5.41 20L4 18.59l7.72-7.72 1.47 1.35L5.41 20z\"/>\n",
              "  </svg>\n",
              "      </button>\n",
              "      \n",
              "  <style>\n",
              "    .colab-df-container {\n",
              "      display:flex;\n",
              "      flex-wrap:wrap;\n",
              "      gap: 12px;\n",
              "    }\n",
              "\n",
              "    .colab-df-convert {\n",
              "      background-color: #E8F0FE;\n",
              "      border: none;\n",
              "      border-radius: 50%;\n",
              "      cursor: pointer;\n",
              "      display: none;\n",
              "      fill: #1967D2;\n",
              "      height: 32px;\n",
              "      padding: 0 0 0 0;\n",
              "      width: 32px;\n",
              "    }\n",
              "\n",
              "    .colab-df-convert:hover {\n",
              "      background-color: #E2EBFA;\n",
              "      box-shadow: 0px 1px 2px rgba(60, 64, 67, 0.3), 0px 1px 3px 1px rgba(60, 64, 67, 0.15);\n",
              "      fill: #174EA6;\n",
              "    }\n",
              "\n",
              "    [theme=dark] .colab-df-convert {\n",
              "      background-color: #3B4455;\n",
              "      fill: #D2E3FC;\n",
              "    }\n",
              "\n",
              "    [theme=dark] .colab-df-convert:hover {\n",
              "      background-color: #434B5C;\n",
              "      box-shadow: 0px 1px 3px 1px rgba(0, 0, 0, 0.15);\n",
              "      filter: drop-shadow(0px 1px 2px rgba(0, 0, 0, 0.3));\n",
              "      fill: #FFFFFF;\n",
              "    }\n",
              "  </style>\n",
              "\n",
              "      <script>\n",
              "        const buttonEl =\n",
              "          document.querySelector('#df-1a37b6d1-e8c5-4bfe-8de0-67ae7f131c8e button.colab-df-convert');\n",
              "        buttonEl.style.display =\n",
              "          google.colab.kernel.accessAllowed ? 'block' : 'none';\n",
              "\n",
              "        async function convertToInteractive(key) {\n",
              "          const element = document.querySelector('#df-1a37b6d1-e8c5-4bfe-8de0-67ae7f131c8e');\n",
              "          const dataTable =\n",
              "            await google.colab.kernel.invokeFunction('convertToInteractive',\n",
              "                                                     [key], {});\n",
              "          if (!dataTable) return;\n",
              "\n",
              "          const docLinkHtml = 'Like what you see? Visit the ' +\n",
              "            '<a target=\"_blank\" href=https://colab.research.google.com/notebooks/data_table.ipynb>data table notebook</a>'\n",
              "            + ' to learn more about interactive tables.';\n",
              "          element.innerHTML = '';\n",
              "          dataTable['output_type'] = 'display_data';\n",
              "          await google.colab.output.renderOutput(dataTable, element);\n",
              "          const docLink = document.createElement('div');\n",
              "          docLink.innerHTML = docLinkHtml;\n",
              "          element.appendChild(docLink);\n",
              "        }\n",
              "      </script>\n",
              "    </div>\n",
              "  </div>\n",
              "  "
            ]
          },
          "metadata": {},
          "execution_count": 22
        }
      ]
    },
    {
      "cell_type": "markdown",
      "source": [
        "(0.5 балла) А теперь с индексами, кратными 6:"
      ],
      "metadata": {
        "id": "mNXqS4oox7TF"
      }
    },
    {
      "cell_type": "code",
      "source": [
        "even_index_rows = diamonds.iloc[::6]\n",
        "even_index_rows"
      ],
      "metadata": {
        "id": "hy8LyzXix_SB",
        "colab": {
          "base_uri": "https://localhost:8080/",
          "height": 591
        },
        "outputId": "07858122-5ec1-4555-c441-e7dabb46dbb7"
      },
      "execution_count": 23,
      "outputs": [
        {
          "output_type": "execute_result",
          "data": {
            "text/plain": [
              "        Unnamed: 0      cut    color clarity  carat_weight cut_quality  lab  \\\n",
              "0                0    Round        E    VVS2          0.09   Excellent  IGI   \n",
              "6                6    Round        E    VVS2          0.09   Very Good  IGI   \n",
              "12              12    Round        E    VVS2          0.09   Very Good  IGI   \n",
              "18              18    Round        E    VVS2          0.09   Excellent  IGI   \n",
              "24              24    Round        L      I1          0.34   Excellent  IGI   \n",
              "...            ...      ...      ...     ...           ...         ...  ...   \n",
              "219678      219679    Round        G     VS1         10.23   Excellent  GIA   \n",
              "219684      219685  Radiant  unknown      I1          0.89     unknown  GIA   \n",
              "219690      219691    Round        D    VVS2         10.10   Excellent  GIA   \n",
              "219696      219697     Oval        H     VS2         18.88     unknown  GIA   \n",
              "219702      219703     Pear  unknown    VVS2         10.03     unknown  GIA   \n",
              "\n",
              "         symmetry     polish eye_clean  depth_percent  table_percent  \\\n",
              "0       Very Good  Very Good   unknown           62.7           59.0   \n",
              "6       Very Good  Very Good   unknown           64.0           57.0   \n",
              "12      Very Good  Very Good   unknown           61.8           58.5   \n",
              "18      Very Good  Very Good   unknown           61.0           60.0   \n",
              "24      Excellent  Excellent   unknown            0.0            0.0   \n",
              "...           ...        ...       ...            ...            ...   \n",
              "219678  Excellent  Excellent   unknown           62.7           55.0   \n",
              "219684       Good       Good   unknown           63.8           57.0   \n",
              "219690  Excellent  Excellent   unknown           59.4           59.0   \n",
              "219696  Excellent  Excellent   unknown           57.1           55.0   \n",
              "219702  Very Good  Excellent   unknown           66.7           65.0   \n",
              "\n",
              "        meas_length  meas_width  meas_depth girdle_min girdle_max  \\\n",
              "0              2.85        2.87        1.79          M          M   \n",
              "6              2.85        2.88        1.84        STK        STK   \n",
              "12             2.85        2.89        1.77        STK         TK   \n",
              "18             2.91        2.92        1.78          M          M   \n",
              "24             0.00        0.00        0.00    unknown    unknown   \n",
              "...             ...         ...         ...        ...        ...   \n",
              "219678        13.82       13.92        8.69         TN          M   \n",
              "219684         6.44        4.96        3.16         TK        VTK   \n",
              "219690        14.07       14.15        8.39          M        STK   \n",
              "219696        21.34       15.23        8.69         TN        STK   \n",
              "219702        15.61       11.09        7.39    unknown    unknown   \n",
              "\n",
              "        total_sales_price  \n",
              "0                     200  \n",
              "6                     200  \n",
              "12                    200  \n",
              "18                    200  \n",
              "24                    204  \n",
              "...                   ...  \n",
              "219678             859320  \n",
              "219684             982560  \n",
              "219690            1040739  \n",
              "219696            1132347  \n",
              "219702            1449881  \n",
              "\n",
              "[36618 rows x 18 columns]"
            ],
            "text/html": [
              "\n",
              "  <div id=\"df-78dfab12-beb9-4005-b8fb-8378da6b0763\">\n",
              "    <div class=\"colab-df-container\">\n",
              "      <div>\n",
              "<style scoped>\n",
              "    .dataframe tbody tr th:only-of-type {\n",
              "        vertical-align: middle;\n",
              "    }\n",
              "\n",
              "    .dataframe tbody tr th {\n",
              "        vertical-align: top;\n",
              "    }\n",
              "\n",
              "    .dataframe thead th {\n",
              "        text-align: right;\n",
              "    }\n",
              "</style>\n",
              "<table border=\"1\" class=\"dataframe\">\n",
              "  <thead>\n",
              "    <tr style=\"text-align: right;\">\n",
              "      <th></th>\n",
              "      <th>Unnamed: 0</th>\n",
              "      <th>cut</th>\n",
              "      <th>color</th>\n",
              "      <th>clarity</th>\n",
              "      <th>carat_weight</th>\n",
              "      <th>cut_quality</th>\n",
              "      <th>lab</th>\n",
              "      <th>symmetry</th>\n",
              "      <th>polish</th>\n",
              "      <th>eye_clean</th>\n",
              "      <th>depth_percent</th>\n",
              "      <th>table_percent</th>\n",
              "      <th>meas_length</th>\n",
              "      <th>meas_width</th>\n",
              "      <th>meas_depth</th>\n",
              "      <th>girdle_min</th>\n",
              "      <th>girdle_max</th>\n",
              "      <th>total_sales_price</th>\n",
              "    </tr>\n",
              "  </thead>\n",
              "  <tbody>\n",
              "    <tr>\n",
              "      <th>0</th>\n",
              "      <td>0</td>\n",
              "      <td>Round</td>\n",
              "      <td>E</td>\n",
              "      <td>VVS2</td>\n",
              "      <td>0.09</td>\n",
              "      <td>Excellent</td>\n",
              "      <td>IGI</td>\n",
              "      <td>Very Good</td>\n",
              "      <td>Very Good</td>\n",
              "      <td>unknown</td>\n",
              "      <td>62.7</td>\n",
              "      <td>59.0</td>\n",
              "      <td>2.85</td>\n",
              "      <td>2.87</td>\n",
              "      <td>1.79</td>\n",
              "      <td>M</td>\n",
              "      <td>M</td>\n",
              "      <td>200</td>\n",
              "    </tr>\n",
              "    <tr>\n",
              "      <th>6</th>\n",
              "      <td>6</td>\n",
              "      <td>Round</td>\n",
              "      <td>E</td>\n",
              "      <td>VVS2</td>\n",
              "      <td>0.09</td>\n",
              "      <td>Very Good</td>\n",
              "      <td>IGI</td>\n",
              "      <td>Very Good</td>\n",
              "      <td>Very Good</td>\n",
              "      <td>unknown</td>\n",
              "      <td>64.0</td>\n",
              "      <td>57.0</td>\n",
              "      <td>2.85</td>\n",
              "      <td>2.88</td>\n",
              "      <td>1.84</td>\n",
              "      <td>STK</td>\n",
              "      <td>STK</td>\n",
              "      <td>200</td>\n",
              "    </tr>\n",
              "    <tr>\n",
              "      <th>12</th>\n",
              "      <td>12</td>\n",
              "      <td>Round</td>\n",
              "      <td>E</td>\n",
              "      <td>VVS2</td>\n",
              "      <td>0.09</td>\n",
              "      <td>Very Good</td>\n",
              "      <td>IGI</td>\n",
              "      <td>Very Good</td>\n",
              "      <td>Very Good</td>\n",
              "      <td>unknown</td>\n",
              "      <td>61.8</td>\n",
              "      <td>58.5</td>\n",
              "      <td>2.85</td>\n",
              "      <td>2.89</td>\n",
              "      <td>1.77</td>\n",
              "      <td>STK</td>\n",
              "      <td>TK</td>\n",
              "      <td>200</td>\n",
              "    </tr>\n",
              "    <tr>\n",
              "      <th>18</th>\n",
              "      <td>18</td>\n",
              "      <td>Round</td>\n",
              "      <td>E</td>\n",
              "      <td>VVS2</td>\n",
              "      <td>0.09</td>\n",
              "      <td>Excellent</td>\n",
              "      <td>IGI</td>\n",
              "      <td>Very Good</td>\n",
              "      <td>Very Good</td>\n",
              "      <td>unknown</td>\n",
              "      <td>61.0</td>\n",
              "      <td>60.0</td>\n",
              "      <td>2.91</td>\n",
              "      <td>2.92</td>\n",
              "      <td>1.78</td>\n",
              "      <td>M</td>\n",
              "      <td>M</td>\n",
              "      <td>200</td>\n",
              "    </tr>\n",
              "    <tr>\n",
              "      <th>24</th>\n",
              "      <td>24</td>\n",
              "      <td>Round</td>\n",
              "      <td>L</td>\n",
              "      <td>I1</td>\n",
              "      <td>0.34</td>\n",
              "      <td>Excellent</td>\n",
              "      <td>IGI</td>\n",
              "      <td>Excellent</td>\n",
              "      <td>Excellent</td>\n",
              "      <td>unknown</td>\n",
              "      <td>0.0</td>\n",
              "      <td>0.0</td>\n",
              "      <td>0.00</td>\n",
              "      <td>0.00</td>\n",
              "      <td>0.00</td>\n",
              "      <td>unknown</td>\n",
              "      <td>unknown</td>\n",
              "      <td>204</td>\n",
              "    </tr>\n",
              "    <tr>\n",
              "      <th>...</th>\n",
              "      <td>...</td>\n",
              "      <td>...</td>\n",
              "      <td>...</td>\n",
              "      <td>...</td>\n",
              "      <td>...</td>\n",
              "      <td>...</td>\n",
              "      <td>...</td>\n",
              "      <td>...</td>\n",
              "      <td>...</td>\n",
              "      <td>...</td>\n",
              "      <td>...</td>\n",
              "      <td>...</td>\n",
              "      <td>...</td>\n",
              "      <td>...</td>\n",
              "      <td>...</td>\n",
              "      <td>...</td>\n",
              "      <td>...</td>\n",
              "      <td>...</td>\n",
              "    </tr>\n",
              "    <tr>\n",
              "      <th>219678</th>\n",
              "      <td>219679</td>\n",
              "      <td>Round</td>\n",
              "      <td>G</td>\n",
              "      <td>VS1</td>\n",
              "      <td>10.23</td>\n",
              "      <td>Excellent</td>\n",
              "      <td>GIA</td>\n",
              "      <td>Excellent</td>\n",
              "      <td>Excellent</td>\n",
              "      <td>unknown</td>\n",
              "      <td>62.7</td>\n",
              "      <td>55.0</td>\n",
              "      <td>13.82</td>\n",
              "      <td>13.92</td>\n",
              "      <td>8.69</td>\n",
              "      <td>TN</td>\n",
              "      <td>M</td>\n",
              "      <td>859320</td>\n",
              "    </tr>\n",
              "    <tr>\n",
              "      <th>219684</th>\n",
              "      <td>219685</td>\n",
              "      <td>Radiant</td>\n",
              "      <td>unknown</td>\n",
              "      <td>I1</td>\n",
              "      <td>0.89</td>\n",
              "      <td>unknown</td>\n",
              "      <td>GIA</td>\n",
              "      <td>Good</td>\n",
              "      <td>Good</td>\n",
              "      <td>unknown</td>\n",
              "      <td>63.8</td>\n",
              "      <td>57.0</td>\n",
              "      <td>6.44</td>\n",
              "      <td>4.96</td>\n",
              "      <td>3.16</td>\n",
              "      <td>TK</td>\n",
              "      <td>VTK</td>\n",
              "      <td>982560</td>\n",
              "    </tr>\n",
              "    <tr>\n",
              "      <th>219690</th>\n",
              "      <td>219691</td>\n",
              "      <td>Round</td>\n",
              "      <td>D</td>\n",
              "      <td>VVS2</td>\n",
              "      <td>10.10</td>\n",
              "      <td>Excellent</td>\n",
              "      <td>GIA</td>\n",
              "      <td>Excellent</td>\n",
              "      <td>Excellent</td>\n",
              "      <td>unknown</td>\n",
              "      <td>59.4</td>\n",
              "      <td>59.0</td>\n",
              "      <td>14.07</td>\n",
              "      <td>14.15</td>\n",
              "      <td>8.39</td>\n",
              "      <td>M</td>\n",
              "      <td>STK</td>\n",
              "      <td>1040739</td>\n",
              "    </tr>\n",
              "    <tr>\n",
              "      <th>219696</th>\n",
              "      <td>219697</td>\n",
              "      <td>Oval</td>\n",
              "      <td>H</td>\n",
              "      <td>VS2</td>\n",
              "      <td>18.88</td>\n",
              "      <td>unknown</td>\n",
              "      <td>GIA</td>\n",
              "      <td>Excellent</td>\n",
              "      <td>Excellent</td>\n",
              "      <td>unknown</td>\n",
              "      <td>57.1</td>\n",
              "      <td>55.0</td>\n",
              "      <td>21.34</td>\n",
              "      <td>15.23</td>\n",
              "      <td>8.69</td>\n",
              "      <td>TN</td>\n",
              "      <td>STK</td>\n",
              "      <td>1132347</td>\n",
              "    </tr>\n",
              "    <tr>\n",
              "      <th>219702</th>\n",
              "      <td>219703</td>\n",
              "      <td>Pear</td>\n",
              "      <td>unknown</td>\n",
              "      <td>VVS2</td>\n",
              "      <td>10.03</td>\n",
              "      <td>unknown</td>\n",
              "      <td>GIA</td>\n",
              "      <td>Very Good</td>\n",
              "      <td>Excellent</td>\n",
              "      <td>unknown</td>\n",
              "      <td>66.7</td>\n",
              "      <td>65.0</td>\n",
              "      <td>15.61</td>\n",
              "      <td>11.09</td>\n",
              "      <td>7.39</td>\n",
              "      <td>unknown</td>\n",
              "      <td>unknown</td>\n",
              "      <td>1449881</td>\n",
              "    </tr>\n",
              "  </tbody>\n",
              "</table>\n",
              "<p>36618 rows × 18 columns</p>\n",
              "</div>\n",
              "      <button class=\"colab-df-convert\" onclick=\"convertToInteractive('df-78dfab12-beb9-4005-b8fb-8378da6b0763')\"\n",
              "              title=\"Convert this dataframe to an interactive table.\"\n",
              "              style=\"display:none;\">\n",
              "        \n",
              "  <svg xmlns=\"http://www.w3.org/2000/svg\" height=\"24px\"viewBox=\"0 0 24 24\"\n",
              "       width=\"24px\">\n",
              "    <path d=\"M0 0h24v24H0V0z\" fill=\"none\"/>\n",
              "    <path d=\"M18.56 5.44l.94 2.06.94-2.06 2.06-.94-2.06-.94-.94-2.06-.94 2.06-2.06.94zm-11 1L8.5 8.5l.94-2.06 2.06-.94-2.06-.94L8.5 2.5l-.94 2.06-2.06.94zm10 10l.94 2.06.94-2.06 2.06-.94-2.06-.94-.94-2.06-.94 2.06-2.06.94z\"/><path d=\"M17.41 7.96l-1.37-1.37c-.4-.4-.92-.59-1.43-.59-.52 0-1.04.2-1.43.59L10.3 9.45l-7.72 7.72c-.78.78-.78 2.05 0 2.83L4 21.41c.39.39.9.59 1.41.59.51 0 1.02-.2 1.41-.59l7.78-7.78 2.81-2.81c.8-.78.8-2.07 0-2.86zM5.41 20L4 18.59l7.72-7.72 1.47 1.35L5.41 20z\"/>\n",
              "  </svg>\n",
              "      </button>\n",
              "      \n",
              "  <style>\n",
              "    .colab-df-container {\n",
              "      display:flex;\n",
              "      flex-wrap:wrap;\n",
              "      gap: 12px;\n",
              "    }\n",
              "\n",
              "    .colab-df-convert {\n",
              "      background-color: #E8F0FE;\n",
              "      border: none;\n",
              "      border-radius: 50%;\n",
              "      cursor: pointer;\n",
              "      display: none;\n",
              "      fill: #1967D2;\n",
              "      height: 32px;\n",
              "      padding: 0 0 0 0;\n",
              "      width: 32px;\n",
              "    }\n",
              "\n",
              "    .colab-df-convert:hover {\n",
              "      background-color: #E2EBFA;\n",
              "      box-shadow: 0px 1px 2px rgba(60, 64, 67, 0.3), 0px 1px 3px 1px rgba(60, 64, 67, 0.15);\n",
              "      fill: #174EA6;\n",
              "    }\n",
              "\n",
              "    [theme=dark] .colab-df-convert {\n",
              "      background-color: #3B4455;\n",
              "      fill: #D2E3FC;\n",
              "    }\n",
              "\n",
              "    [theme=dark] .colab-df-convert:hover {\n",
              "      background-color: #434B5C;\n",
              "      box-shadow: 0px 1px 3px 1px rgba(0, 0, 0, 0.15);\n",
              "      filter: drop-shadow(0px 1px 2px rgba(0, 0, 0, 0.3));\n",
              "      fill: #FFFFFF;\n",
              "    }\n",
              "  </style>\n",
              "\n",
              "      <script>\n",
              "        const buttonEl =\n",
              "          document.querySelector('#df-78dfab12-beb9-4005-b8fb-8378da6b0763 button.colab-df-convert');\n",
              "        buttonEl.style.display =\n",
              "          google.colab.kernel.accessAllowed ? 'block' : 'none';\n",
              "\n",
              "        async function convertToInteractive(key) {\n",
              "          const element = document.querySelector('#df-78dfab12-beb9-4005-b8fb-8378da6b0763');\n",
              "          const dataTable =\n",
              "            await google.colab.kernel.invokeFunction('convertToInteractive',\n",
              "                                                     [key], {});\n",
              "          if (!dataTable) return;\n",
              "\n",
              "          const docLinkHtml = 'Like what you see? Visit the ' +\n",
              "            '<a target=\"_blank\" href=https://colab.research.google.com/notebooks/data_table.ipynb>data table notebook</a>'\n",
              "            + ' to learn more about interactive tables.';\n",
              "          element.innerHTML = '';\n",
              "          dataTable['output_type'] = 'display_data';\n",
              "          await google.colab.output.renderOutput(dataTable, element);\n",
              "          const docLink = document.createElement('div');\n",
              "          docLink.innerHTML = docLinkHtml;\n",
              "          element.appendChild(docLink);\n",
              "        }\n",
              "      </script>\n",
              "    </div>\n",
              "  </div>\n",
              "  "
            ]
          },
          "metadata": {},
          "execution_count": 23
        }
      ]
    },
    {
      "cell_type": "markdown",
      "source": [
        "(1 балл) Выберете из датасета только категорильные признаки и выведете датасет:"
      ],
      "metadata": {
        "id": "u94LL979x_bV"
      }
    },
    {
      "cell_type": "code",
      "source": [
        "categorical_columns = diamonds.select_dtypes(include='object')\n",
        "categorical_columns"
      ],
      "metadata": {
        "id": "2_LBNDWXyOOl",
        "colab": {
          "base_uri": "https://localhost:8080/",
          "height": 423
        },
        "outputId": "d7e87323-deb5-40f1-c97f-ebdcf3f67285"
      },
      "execution_count": 24,
      "outputs": [
        {
          "output_type": "execute_result",
          "data": {
            "text/plain": [
              "             cut    color clarity cut_quality  lab   symmetry     polish  \\\n",
              "0          Round        E    VVS2   Excellent  IGI  Very Good  Very Good   \n",
              "1          Round        E    VVS2   Very Good  IGI  Very Good  Very Good   \n",
              "2          Round        E    VVS2   Excellent  IGI  Very Good  Very Good   \n",
              "3          Round        E    VVS2   Excellent  IGI  Very Good  Very Good   \n",
              "4          Round        E    VVS2   Very Good  IGI  Very Good  Excellent   \n",
              "...          ...      ...     ...         ...  ...        ...        ...   \n",
              "219698     Round        E     VS1   Excellent  GIA  Excellent  Excellent   \n",
              "219699   Radiant  unknown     VS2     unknown  GIA  Very Good  Very Good   \n",
              "219700     Round        E     VS1   Excellent  GIA  Excellent  Excellent   \n",
              "219701  Princess  unknown     SI2     unknown  GIA       Good       Good   \n",
              "219702      Pear  unknown    VVS2     unknown  GIA  Very Good  Excellent   \n",
              "\n",
              "       eye_clean girdle_min girdle_max  \n",
              "0        unknown          M          M  \n",
              "1        unknown        STK        STK  \n",
              "2        unknown         TN          M  \n",
              "3        unknown          M        STK  \n",
              "4        unknown        STK        STK  \n",
              "...          ...        ...        ...  \n",
              "219698   unknown          M        STK  \n",
              "219699   unknown         TK        XTK  \n",
              "219700   unknown         TN          M  \n",
              "219701   unknown        XTN        VTK  \n",
              "219702   unknown    unknown    unknown  \n",
              "\n",
              "[219703 rows x 10 columns]"
            ],
            "text/html": [
              "\n",
              "  <div id=\"df-e76da152-5875-42ae-874b-b8755143c8a9\">\n",
              "    <div class=\"colab-df-container\">\n",
              "      <div>\n",
              "<style scoped>\n",
              "    .dataframe tbody tr th:only-of-type {\n",
              "        vertical-align: middle;\n",
              "    }\n",
              "\n",
              "    .dataframe tbody tr th {\n",
              "        vertical-align: top;\n",
              "    }\n",
              "\n",
              "    .dataframe thead th {\n",
              "        text-align: right;\n",
              "    }\n",
              "</style>\n",
              "<table border=\"1\" class=\"dataframe\">\n",
              "  <thead>\n",
              "    <tr style=\"text-align: right;\">\n",
              "      <th></th>\n",
              "      <th>cut</th>\n",
              "      <th>color</th>\n",
              "      <th>clarity</th>\n",
              "      <th>cut_quality</th>\n",
              "      <th>lab</th>\n",
              "      <th>symmetry</th>\n",
              "      <th>polish</th>\n",
              "      <th>eye_clean</th>\n",
              "      <th>girdle_min</th>\n",
              "      <th>girdle_max</th>\n",
              "    </tr>\n",
              "  </thead>\n",
              "  <tbody>\n",
              "    <tr>\n",
              "      <th>0</th>\n",
              "      <td>Round</td>\n",
              "      <td>E</td>\n",
              "      <td>VVS2</td>\n",
              "      <td>Excellent</td>\n",
              "      <td>IGI</td>\n",
              "      <td>Very Good</td>\n",
              "      <td>Very Good</td>\n",
              "      <td>unknown</td>\n",
              "      <td>M</td>\n",
              "      <td>M</td>\n",
              "    </tr>\n",
              "    <tr>\n",
              "      <th>1</th>\n",
              "      <td>Round</td>\n",
              "      <td>E</td>\n",
              "      <td>VVS2</td>\n",
              "      <td>Very Good</td>\n",
              "      <td>IGI</td>\n",
              "      <td>Very Good</td>\n",
              "      <td>Very Good</td>\n",
              "      <td>unknown</td>\n",
              "      <td>STK</td>\n",
              "      <td>STK</td>\n",
              "    </tr>\n",
              "    <tr>\n",
              "      <th>2</th>\n",
              "      <td>Round</td>\n",
              "      <td>E</td>\n",
              "      <td>VVS2</td>\n",
              "      <td>Excellent</td>\n",
              "      <td>IGI</td>\n",
              "      <td>Very Good</td>\n",
              "      <td>Very Good</td>\n",
              "      <td>unknown</td>\n",
              "      <td>TN</td>\n",
              "      <td>M</td>\n",
              "    </tr>\n",
              "    <tr>\n",
              "      <th>3</th>\n",
              "      <td>Round</td>\n",
              "      <td>E</td>\n",
              "      <td>VVS2</td>\n",
              "      <td>Excellent</td>\n",
              "      <td>IGI</td>\n",
              "      <td>Very Good</td>\n",
              "      <td>Very Good</td>\n",
              "      <td>unknown</td>\n",
              "      <td>M</td>\n",
              "      <td>STK</td>\n",
              "    </tr>\n",
              "    <tr>\n",
              "      <th>4</th>\n",
              "      <td>Round</td>\n",
              "      <td>E</td>\n",
              "      <td>VVS2</td>\n",
              "      <td>Very Good</td>\n",
              "      <td>IGI</td>\n",
              "      <td>Very Good</td>\n",
              "      <td>Excellent</td>\n",
              "      <td>unknown</td>\n",
              "      <td>STK</td>\n",
              "      <td>STK</td>\n",
              "    </tr>\n",
              "    <tr>\n",
              "      <th>...</th>\n",
              "      <td>...</td>\n",
              "      <td>...</td>\n",
              "      <td>...</td>\n",
              "      <td>...</td>\n",
              "      <td>...</td>\n",
              "      <td>...</td>\n",
              "      <td>...</td>\n",
              "      <td>...</td>\n",
              "      <td>...</td>\n",
              "      <td>...</td>\n",
              "    </tr>\n",
              "    <tr>\n",
              "      <th>219698</th>\n",
              "      <td>Round</td>\n",
              "      <td>E</td>\n",
              "      <td>VS1</td>\n",
              "      <td>Excellent</td>\n",
              "      <td>GIA</td>\n",
              "      <td>Excellent</td>\n",
              "      <td>Excellent</td>\n",
              "      <td>unknown</td>\n",
              "      <td>M</td>\n",
              "      <td>STK</td>\n",
              "    </tr>\n",
              "    <tr>\n",
              "      <th>219699</th>\n",
              "      <td>Radiant</td>\n",
              "      <td>unknown</td>\n",
              "      <td>VS2</td>\n",
              "      <td>unknown</td>\n",
              "      <td>GIA</td>\n",
              "      <td>Very Good</td>\n",
              "      <td>Very Good</td>\n",
              "      <td>unknown</td>\n",
              "      <td>TK</td>\n",
              "      <td>XTK</td>\n",
              "    </tr>\n",
              "    <tr>\n",
              "      <th>219700</th>\n",
              "      <td>Round</td>\n",
              "      <td>E</td>\n",
              "      <td>VS1</td>\n",
              "      <td>Excellent</td>\n",
              "      <td>GIA</td>\n",
              "      <td>Excellent</td>\n",
              "      <td>Excellent</td>\n",
              "      <td>unknown</td>\n",
              "      <td>TN</td>\n",
              "      <td>M</td>\n",
              "    </tr>\n",
              "    <tr>\n",
              "      <th>219701</th>\n",
              "      <td>Princess</td>\n",
              "      <td>unknown</td>\n",
              "      <td>SI2</td>\n",
              "      <td>unknown</td>\n",
              "      <td>GIA</td>\n",
              "      <td>Good</td>\n",
              "      <td>Good</td>\n",
              "      <td>unknown</td>\n",
              "      <td>XTN</td>\n",
              "      <td>VTK</td>\n",
              "    </tr>\n",
              "    <tr>\n",
              "      <th>219702</th>\n",
              "      <td>Pear</td>\n",
              "      <td>unknown</td>\n",
              "      <td>VVS2</td>\n",
              "      <td>unknown</td>\n",
              "      <td>GIA</td>\n",
              "      <td>Very Good</td>\n",
              "      <td>Excellent</td>\n",
              "      <td>unknown</td>\n",
              "      <td>unknown</td>\n",
              "      <td>unknown</td>\n",
              "    </tr>\n",
              "  </tbody>\n",
              "</table>\n",
              "<p>219703 rows × 10 columns</p>\n",
              "</div>\n",
              "      <button class=\"colab-df-convert\" onclick=\"convertToInteractive('df-e76da152-5875-42ae-874b-b8755143c8a9')\"\n",
              "              title=\"Convert this dataframe to an interactive table.\"\n",
              "              style=\"display:none;\">\n",
              "        \n",
              "  <svg xmlns=\"http://www.w3.org/2000/svg\" height=\"24px\"viewBox=\"0 0 24 24\"\n",
              "       width=\"24px\">\n",
              "    <path d=\"M0 0h24v24H0V0z\" fill=\"none\"/>\n",
              "    <path d=\"M18.56 5.44l.94 2.06.94-2.06 2.06-.94-2.06-.94-.94-2.06-.94 2.06-2.06.94zm-11 1L8.5 8.5l.94-2.06 2.06-.94-2.06-.94L8.5 2.5l-.94 2.06-2.06.94zm10 10l.94 2.06.94-2.06 2.06-.94-2.06-.94-.94-2.06-.94 2.06-2.06.94z\"/><path d=\"M17.41 7.96l-1.37-1.37c-.4-.4-.92-.59-1.43-.59-.52 0-1.04.2-1.43.59L10.3 9.45l-7.72 7.72c-.78.78-.78 2.05 0 2.83L4 21.41c.39.39.9.59 1.41.59.51 0 1.02-.2 1.41-.59l7.78-7.78 2.81-2.81c.8-.78.8-2.07 0-2.86zM5.41 20L4 18.59l7.72-7.72 1.47 1.35L5.41 20z\"/>\n",
              "  </svg>\n",
              "      </button>\n",
              "      \n",
              "  <style>\n",
              "    .colab-df-container {\n",
              "      display:flex;\n",
              "      flex-wrap:wrap;\n",
              "      gap: 12px;\n",
              "    }\n",
              "\n",
              "    .colab-df-convert {\n",
              "      background-color: #E8F0FE;\n",
              "      border: none;\n",
              "      border-radius: 50%;\n",
              "      cursor: pointer;\n",
              "      display: none;\n",
              "      fill: #1967D2;\n",
              "      height: 32px;\n",
              "      padding: 0 0 0 0;\n",
              "      width: 32px;\n",
              "    }\n",
              "\n",
              "    .colab-df-convert:hover {\n",
              "      background-color: #E2EBFA;\n",
              "      box-shadow: 0px 1px 2px rgba(60, 64, 67, 0.3), 0px 1px 3px 1px rgba(60, 64, 67, 0.15);\n",
              "      fill: #174EA6;\n",
              "    }\n",
              "\n",
              "    [theme=dark] .colab-df-convert {\n",
              "      background-color: #3B4455;\n",
              "      fill: #D2E3FC;\n",
              "    }\n",
              "\n",
              "    [theme=dark] .colab-df-convert:hover {\n",
              "      background-color: #434B5C;\n",
              "      box-shadow: 0px 1px 3px 1px rgba(0, 0, 0, 0.15);\n",
              "      filter: drop-shadow(0px 1px 2px rgba(0, 0, 0, 0.3));\n",
              "      fill: #FFFFFF;\n",
              "    }\n",
              "  </style>\n",
              "\n",
              "      <script>\n",
              "        const buttonEl =\n",
              "          document.querySelector('#df-e76da152-5875-42ae-874b-b8755143c8a9 button.colab-df-convert');\n",
              "        buttonEl.style.display =\n",
              "          google.colab.kernel.accessAllowed ? 'block' : 'none';\n",
              "\n",
              "        async function convertToInteractive(key) {\n",
              "          const element = document.querySelector('#df-e76da152-5875-42ae-874b-b8755143c8a9');\n",
              "          const dataTable =\n",
              "            await google.colab.kernel.invokeFunction('convertToInteractive',\n",
              "                                                     [key], {});\n",
              "          if (!dataTable) return;\n",
              "\n",
              "          const docLinkHtml = 'Like what you see? Visit the ' +\n",
              "            '<a target=\"_blank\" href=https://colab.research.google.com/notebooks/data_table.ipynb>data table notebook</a>'\n",
              "            + ' to learn more about interactive tables.';\n",
              "          element.innerHTML = '';\n",
              "          dataTable['output_type'] = 'display_data';\n",
              "          await google.colab.output.renderOutput(dataTable, element);\n",
              "          const docLink = document.createElement('div');\n",
              "          docLink.innerHTML = docLinkHtml;\n",
              "          element.appendChild(docLink);\n",
              "        }\n",
              "      </script>\n",
              "    </div>\n",
              "  </div>\n",
              "  "
            ]
          },
          "metadata": {},
          "execution_count": 24
        }
      ]
    },
    {
      "cell_type": "markdown",
      "source": [
        ">**Примечание**\n",
        ">\n",
        ">Данный датасет можно использовать для задания 3 (с использованием `sklearn`)"
      ],
      "metadata": {
        "id": "QANg8ziJkHGM"
      }
    },
    {
      "cell_type": "markdown",
      "source": [
        "(0.5 балла) Выберете столбец с данными о цене бриллиантов и домножите его на тот столбец, только транспонированный, и выведите полученную матрицу:"
      ],
      "metadata": {
        "id": "mV9jLhspyOgz"
      }
    },
    {
      "cell_type": "code",
      "source": [
        "#матрица получается очень большая, у меня комп не тянет таокое, поэтому я оставила 1000*1000 первых строк и столбцов\n",
        "col1 = diamonds['total_sales_price']\n",
        "col1_transposed = col1.values.reshape(-1, 1)\n",
        "max_rows = 1000\n",
        "max_cols = 1000\n",
        "result_matrix = np.dot(col1.values[:max_rows].reshape(-1, 1), col1_transposed[:max_cols].T)\n",
        "\n",
        "result_matrix"
      ],
      "metadata": {
        "id": "LawjtnoIymFu",
        "colab": {
          "base_uri": "https://localhost:8080/"
        },
        "outputId": "87b6fe3f-3503-483f-886e-70e9a41b6918"
      },
      "execution_count": 25,
      "outputs": [
        {
          "output_type": "execute_result",
          "data": {
            "text/plain": [
              "array([[ 40000,  40000,  40000, ...,  84000,  84000,  84000],\n",
              "       [ 40000,  40000,  40000, ...,  84000,  84000,  84000],\n",
              "       [ 40000,  40000,  40000, ...,  84000,  84000,  84000],\n",
              "       ...,\n",
              "       [ 84000,  84000,  84000, ..., 176400, 176400, 176400],\n",
              "       [ 84000,  84000,  84000, ..., 176400, 176400, 176400],\n",
              "       [ 84000,  84000,  84000, ..., 176400, 176400, 176400]])"
            ]
          },
          "metadata": {},
          "execution_count": 25
        }
      ]
    },
    {
      "cell_type": "markdown",
      "source": [
        "### Построение графиков"
      ],
      "metadata": {
        "id": "Pz02uapbkbGk"
      }
    },
    {
      "cell_type": "markdown",
      "source": [
        "**Требования к графику:**\n",
        "\n",
        "1.   График должен быть подписан\n",
        "2.   Оси должны быть подписаны\n",
        "3.   Должна быть легенда графика\n",
        "4.   График должен быть информативным (желательно без сильных выбросов)\n",
        "\n",
        "**Все надписи на русском языке!**"
      ],
      "metadata": {
        "id": "_zhww-rd-c5c"
      }
    },
    {
      "cell_type": "markdown",
      "source": [
        ">**Примечание**\n",
        ">\n",
        ">График необходимо строить для очищенных данных - в них не должно быть пропусков по осям, по которым строите график. При этом **не перезатирайте** имеющийся датафрейм!"
      ],
      "metadata": {
        "id": "mfebCvk0k2mo"
      }
    },
    {
      "cell_type": "markdown",
      "source": [
        "(2 балла) Постройте график `цвет бриллианта - стоимость`:"
      ],
      "metadata": {
        "id": "4R9Rwxdq-l21"
      }
    },
    {
      "cell_type": "code",
      "source": [
        "sns.scatterplot(x='color', y='total_sales_price', data=diamonds, label='бриллиант', alpha=0.3)\n",
        "plt.xlabel('цвет')\n",
        "plt.ylabel('стоимость')\n",
        "plt.title('График цвет-стоимость')\n",
        "plt.legend()\n",
        "plt.show()"
      ],
      "metadata": {
        "id": "Fo6I0j5o-vQh",
        "colab": {
          "base_uri": "https://localhost:8080/",
          "height": 472
        },
        "outputId": "06da5986-e777-4494-9a01-ffd58b2a929b"
      },
      "execution_count": 86,
      "outputs": [
        {
          "output_type": "display_data",
          "data": {
            "text/plain": [
              "<Figure size 640x480 with 1 Axes>"
            ],
            "image/png": "[encoded data removed]"
          },
          "metadata": {}
        }
      ]
    },
    {
      "cell_type": "markdown",
      "source": [
        "(2 балла) Постройте график `лабараторная оценка - кол-во бриллиантов`:"
      ],
      "metadata": {
        "id": "W_UgFji5-vWx"
      }
    },
    {
      "cell_type": "code",
      "source": [
        "#это гистограмма, поэтому не очень понимаю что писать в лэйбле\n",
        "sns.histplot(data=diamonds, x='lab')\n",
        "plt.xlabel('лабараторная оценка')\n",
        "plt.ylabel('Количество')\n",
        "plt.title('Распределение значений в столбце лабараторная оценка')\n",
        "\n",
        "plt.show()"
      ],
      "metadata": {
        "id": "nyT8-TRb_c24",
        "colab": {
          "base_uri": "https://localhost:8080/",
          "height": 472
        },
        "outputId": "80ba3c9b-edfa-4351-e73f-cc42a44a80fb"
      },
      "execution_count": 29,
      "outputs": [
        {
          "output_type": "display_data",
          "data": {
            "text/plain": [
              "<Figure size 640x480 with 1 Axes>"
            ],
            "image/png": "[encoded data removed]"
          },
          "metadata": {}
        }
      ]
    },
    {
      "cell_type": "markdown",
      "source": [
        "(2 балла) Постройте график `вес бриллианта - стоимость`:"
      ],
      "metadata": {
        "id": "AgsMclnJ_c9H"
      }
    },
    {
      "cell_type": "code",
      "source": [
        "Q1 = diamonds['carat_weight'].quantile(0.7)\n",
        "Q3 = diamonds['total_sales_price'].quantile(0.9)\n",
        "IQR = Q3 - Q1\n",
        "lower_bound = Q1 - 1.5 * IQR\n",
        "upper_bound = Q3 + 1.5 * IQR\n",
        "\n",
        "# Фильтрация выбросов\n",
        "filtered_df = diamonds[(diamonds['carat_weight'] >= lower_bound) & (diamonds['carat_weight'] <= upper_bound)]\n",
        "\n",
        "# Построение графика без выбросов\n",
        "sns.scatterplot(x='carat_weight', y='total_sales_price', data=filtered_df, label = 'бриллиант', alpha=0.3)\n",
        "plt.xlabel('вес')\n",
        "plt.ylabel('стоимость')\n",
        "plt.title('График вес-стоимость')\n",
        "plt.legend()\n",
        "plt.show()"
      ],
      "metadata": {
        "id": "tn-x3pwmANQe",
        "colab": {
          "base_uri": "https://localhost:8080/",
          "height": 472
        },
        "outputId": "47733e59-1fdf-492f-9f1e-89a898c031ac"
      },
      "execution_count": 85,
      "outputs": [
        {
          "output_type": "display_data",
          "data": {
            "text/plain": [
              "<Figure size 640x480 with 1 Axes>"
            ],
            "image/png": "[encoded data removed]"
          },
          "metadata": {}
        }
      ]
    },
    {
      "cell_type": "markdown",
      "source": [
        "(2 балла) Постройте график `система оценки GIA Cut - кол-во бриллиантов`:"
      ],
      "metadata": {
        "id": "0LVC1KfEAwuw"
      }
    },
    {
      "cell_type": "code",
      "source": [
        "#это гистограмма, поэтому не очень понимаю что писать в лэйбле\n",
        "\n",
        "sns.histplot(data=diamonds, x='cut_quality')\n",
        "plt.xlabel('лабараторная оценка')\n",
        "plt.ylabel('Количество')\n",
        "plt.title('Распределение значений в столбце лабараторная оценка')\n",
        "#plt.figure(figsize=(5000, 5000))\n",
        "plt.show()"
      ],
      "metadata": {
        "id": "IeuLooSIA232",
        "colab": {
          "base_uri": "https://localhost:8080/",
          "height": 472
        },
        "outputId": "ce30de61-9ef0-41a1-e36e-8d0b08f6a817"
      },
      "execution_count": 87,
      "outputs": [
        {
          "output_type": "display_data",
          "data": {
            "text/plain": [
              "<Figure size 640x480 with 1 Axes>"
            ],
            "image/png": "[encoded data removed]"
          },
          "metadata": {}
        }
      ]
    },
    {
      "cell_type": "markdown",
      "source": [
        "(2 балла) **Сделайте выводы по построенным графикам:**"
      ],
      "metadata": {
        "id": "DRaaNLidFDhL"
      }
    },
    {
      "cell_type": "markdown",
      "source": [
        "По графику цвет-цена видно, что для каждого цвета количество бриллиантов уменьшается с ростом цены.\n",
        "По графику оценка-количество видно, что оценка GIA встречается гораздо чаще остальных двух.\n",
        "На графике вес-цена наблюдается прямо-пропорцианльная зависимость, но с большим количством выбросов.\n",
        "По графику лаб-оценка-количество видно, что оценки good,fair,ideal почти не используются, а также достаточно много бриллиантов с неизвестным качеством. Чаще всего для оценки используется exellent. "
      ],
      "metadata": {
        "id": "GSuWCfdGLtn0"
      }
    },
    {
      "cell_type": "markdown",
      "source": [
        "Ваши выводы здесь :)"
      ],
      "metadata": {
        "id": "iNdjR_X9lSt1"
      }
    },
    {
      "cell_type": "markdown",
      "source": [
        "## Задание 3. Модель - 30 баллов"
      ],
      "metadata": {
        "id": "JKYRkX_rBxxu"
      }
    },
    {
      "cell_type": "markdown",
      "source": [
        "В данном задании вам предстоит построить классифицирующую модель размер алмаза и его стоимости, а затем оценить полученную модель."
      ],
      "metadata": {
        "id": "EJO9SwpII_uJ"
      }
    },
    {
      "cell_type": "markdown",
      "source": [
        ">**Примечание**\n",
        ">\n",
        ">Данная модель не претендует на самый верный индикатор стоимости алмаза, ведь мы не учитываем ничего больше чем стоимость алмаза. Исключительно для образовательных целей :)"
      ],
      "metadata": {
        "id": "_8sA1qlRllrk"
      }
    },
    {
      "cell_type": "markdown",
      "source": [
        "Для построения модели нам понадобится 4 столбца, а именно: \n",
        "- `meas_length`\n",
        "- `meas_width`\n",
        "- `meas_depth`\n",
        "- `total_sales_price`\n",
        "\n",
        "От остальных столбцов можно избавиться."
      ],
      "metadata": {
        "id": "e78rVEGFJrVN"
      }
    },
    {
      "cell_type": "markdown",
      "source": [
        "(1 балл) Создайте новый датасет и выведите его первые 10 строк: "
      ],
      "metadata": {
        "id": "HhpeXcR1l-Ag"
      }
    },
    {
      "cell_type": "code",
      "source": [
        "selected_columns = ['meas_length', 'meas_width', 'meas_depth', 'total_sales_price']\n",
        "br2 = diamonds[selected_columns]\n",
        "\n",
        "br2[:10]"
      ],
      "metadata": {
        "id": "K87VXeCxKFrU",
        "colab": {
          "base_uri": "https://localhost:8080/",
          "height": 363
        },
        "outputId": "cd218e07-8b1f-4653-99bf-28dfdc71fbf2"
      },
      "execution_count": 48,
      "outputs": [
        {
          "output_type": "execute_result",
          "data": {
            "text/plain": [
              "   meas_length  meas_width  meas_depth  total_sales_price\n",
              "0         2.85        2.87        1.79                200\n",
              "1         2.84        2.89        1.78                200\n",
              "2         2.88        2.90        1.77                200\n",
              "3         2.86        2.88        1.78                200\n",
              "4         2.79        2.83        1.82                200\n",
              "5         2.95        2.99        1.81                200\n",
              "6         2.85        2.88        1.84                200\n",
              "7         2.86        2.89        1.78                200\n",
              "8         2.89        2.92        1.85                200\n",
              "9         2.83        2.87        1.80                200"
            ],
            "text/html": [
              "\n",
              "  <div id=\"df-089e98c0-67ed-4c3d-a42b-164bfbdd3697\">\n",
              "    <div class=\"colab-df-container\">\n",
              "      <div>\n",
              "<style scoped>\n",
              "    .dataframe tbody tr th:only-of-type {\n",
              "        vertical-align: middle;\n",
              "    }\n",
              "\n",
              "    .dataframe tbody tr th {\n",
              "        vertical-align: top;\n",
              "    }\n",
              "\n",
              "    .dataframe thead th {\n",
              "        text-align: right;\n",
              "    }\n",
              "</style>\n",
              "<table border=\"1\" class=\"dataframe\">\n",
              "  <thead>\n",
              "    <tr style=\"text-align: right;\">\n",
              "      <th></th>\n",
              "      <th>meas_length</th>\n",
              "      <th>meas_width</th>\n",
              "      <th>meas_depth</th>\n",
              "      <th>total_sales_price</th>\n",
              "    </tr>\n",
              "  </thead>\n",
              "  <tbody>\n",
              "    <tr>\n",
              "      <th>0</th>\n",
              "      <td>2.85</td>\n",
              "      <td>2.87</td>\n",
              "      <td>1.79</td>\n",
              "      <td>200</td>\n",
              "    </tr>\n",
              "    <tr>\n",
              "      <th>1</th>\n",
              "      <td>2.84</td>\n",
              "      <td>2.89</td>\n",
              "      <td>1.78</td>\n",
              "      <td>200</td>\n",
              "    </tr>\n",
              "    <tr>\n",
              "      <th>2</th>\n",
              "      <td>2.88</td>\n",
              "      <td>2.90</td>\n",
              "      <td>1.77</td>\n",
              "      <td>200</td>\n",
              "    </tr>\n",
              "    <tr>\n",
              "      <th>3</th>\n",
              "      <td>2.86</td>\n",
              "      <td>2.88</td>\n",
              "      <td>1.78</td>\n",
              "      <td>200</td>\n",
              "    </tr>\n",
              "    <tr>\n",
              "      <th>4</th>\n",
              "      <td>2.79</td>\n",
              "      <td>2.83</td>\n",
              "      <td>1.82</td>\n",
              "      <td>200</td>\n",
              "    </tr>\n",
              "    <tr>\n",
              "      <th>5</th>\n",
              "      <td>2.95</td>\n",
              "      <td>2.99</td>\n",
              "      <td>1.81</td>\n",
              "      <td>200</td>\n",
              "    </tr>\n",
              "    <tr>\n",
              "      <th>6</th>\n",
              "      <td>2.85</td>\n",
              "      <td>2.88</td>\n",
              "      <td>1.84</td>\n",
              "      <td>200</td>\n",
              "    </tr>\n",
              "    <tr>\n",
              "      <th>7</th>\n",
              "      <td>2.86</td>\n",
              "      <td>2.89</td>\n",
              "      <td>1.78</td>\n",
              "      <td>200</td>\n",
              "    </tr>\n",
              "    <tr>\n",
              "      <th>8</th>\n",
              "      <td>2.89</td>\n",
              "      <td>2.92</td>\n",
              "      <td>1.85</td>\n",
              "      <td>200</td>\n",
              "    </tr>\n",
              "    <tr>\n",
              "      <th>9</th>\n",
              "      <td>2.83</td>\n",
              "      <td>2.87</td>\n",
              "      <td>1.80</td>\n",
              "      <td>200</td>\n",
              "    </tr>\n",
              "  </tbody>\n",
              "</table>\n",
              "</div>\n",
              "      <button class=\"colab-df-convert\" onclick=\"convertToInteractive('df-089e98c0-67ed-4c3d-a42b-164bfbdd3697')\"\n",
              "              title=\"Convert this dataframe to an interactive table.\"\n",
              "              style=\"display:none;\">\n",
              "        \n",
              "  <svg xmlns=\"http://www.w3.org/2000/svg\" height=\"24px\"viewBox=\"0 0 24 24\"\n",
              "       width=\"24px\">\n",
              "    <path d=\"M0 0h24v24H0V0z\" fill=\"none\"/>\n",
              "    <path d=\"M18.56 5.44l.94 2.06.94-2.06 2.06-.94-2.06-.94-.94-2.06-.94 2.06-2.06.94zm-11 1L8.5 8.5l.94-2.06 2.06-.94-2.06-.94L8.5 2.5l-.94 2.06-2.06.94zm10 10l.94 2.06.94-2.06 2.06-.94-2.06-.94-.94-2.06-.94 2.06-2.06.94z\"/><path d=\"M17.41 7.96l-1.37-1.37c-.4-.4-.92-.59-1.43-.59-.52 0-1.04.2-1.43.59L10.3 9.45l-7.72 7.72c-.78.78-.78 2.05 0 2.83L4 21.41c.39.39.9.59 1.41.59.51 0 1.02-.2 1.41-.59l7.78-7.78 2.81-2.81c.8-.78.8-2.07 0-2.86zM5.41 20L4 18.59l7.72-7.72 1.47 1.35L5.41 20z\"/>\n",
              "  </svg>\n",
              "      </button>\n",
              "      \n",
              "  <style>\n",
              "    .colab-df-container {\n",
              "      display:flex;\n",
              "      flex-wrap:wrap;\n",
              "      gap: 12px;\n",
              "    }\n",
              "\n",
              "    .colab-df-convert {\n",
              "      background-color: #E8F0FE;\n",
              "      border: none;\n",
              "      border-radius: 50%;\n",
              "      cursor: pointer;\n",
              "      display: none;\n",
              "      fill: #1967D2;\n",
              "      height: 32px;\n",
              "      padding: 0 0 0 0;\n",
              "      width: 32px;\n",
              "    }\n",
              "\n",
              "    .colab-df-convert:hover {\n",
              "      background-color: #E2EBFA;\n",
              "      box-shadow: 0px 1px 2px rgba(60, 64, 67, 0.3), 0px 1px 3px 1px rgba(60, 64, 67, 0.15);\n",
              "      fill: #174EA6;\n",
              "    }\n",
              "\n",
              "    [theme=dark] .colab-df-convert {\n",
              "      background-color: #3B4455;\n",
              "      fill: #D2E3FC;\n",
              "    }\n",
              "\n",
              "    [theme=dark] .colab-df-convert:hover {\n",
              "      background-color: #434B5C;\n",
              "      box-shadow: 0px 1px 3px 1px rgba(0, 0, 0, 0.15);\n",
              "      filter: drop-shadow(0px 1px 2px rgba(0, 0, 0, 0.3));\n",
              "      fill: #FFFFFF;\n",
              "    }\n",
              "  </style>\n",
              "\n",
              "      <script>\n",
              "        const buttonEl =\n",
              "          document.querySelector('#df-089e98c0-67ed-4c3d-a42b-164bfbdd3697 button.colab-df-convert');\n",
              "        buttonEl.style.display =\n",
              "          google.colab.kernel.accessAllowed ? 'block' : 'none';\n",
              "\n",
              "        async function convertToInteractive(key) {\n",
              "          const element = document.querySelector('#df-089e98c0-67ed-4c3d-a42b-164bfbdd3697');\n",
              "          const dataTable =\n",
              "            await google.colab.kernel.invokeFunction('convertToInteractive',\n",
              "                                                     [key], {});\n",
              "          if (!dataTable) return;\n",
              "\n",
              "          const docLinkHtml = 'Like what you see? Visit the ' +\n",
              "            '<a target=\"_blank\" href=https://colab.research.google.com/notebooks/data_table.ipynb>data table notebook</a>'\n",
              "            + ' to learn more about interactive tables.';\n",
              "          element.innerHTML = '';\n",
              "          dataTable['output_type'] = 'display_data';\n",
              "          await google.colab.output.renderOutput(dataTable, element);\n",
              "          const docLink = document.createElement('div');\n",
              "          docLink.innerHTML = docLinkHtml;\n",
              "          element.appendChild(docLink);\n",
              "        }\n",
              "      </script>\n",
              "    </div>\n",
              "  </div>\n",
              "  "
            ]
          },
          "metadata": {},
          "execution_count": 48
        }
      ]
    },
    {
      "cell_type": "markdown",
      "source": [
        "(1 балл) Перемешайте строки в датафрейме случайным образом: "
      ],
      "metadata": {
        "id": "Uex8DVspKFxn"
      }
    },
    {
      "cell_type": "code",
      "source": [
        "shuffled_br = br2.sample(frac=1, random_state=48)\n",
        "shuffled_br[:10]"
      ],
      "metadata": {
        "id": "5lRYIwGOKOnT",
        "colab": {
          "base_uri": "https://localhost:8080/",
          "height": 363
        },
        "outputId": "fd767057-2081-45db-bcec-6685ba4b6e95"
      },
      "execution_count": 49,
      "outputs": [
        {
          "output_type": "execute_result",
          "data": {
            "text/plain": [
              "        meas_length  meas_width  meas_depth  total_sales_price\n",
              "43360          3.91        3.92        2.43                896\n",
              "186628         7.27        7.32        4.49               9441\n",
              "6711           4.25        4.27        2.59                604\n",
              "71467          4.30        4.34        2.66               1062\n",
              "2274           4.07        2.72        1.79                440\n",
              "5970           4.24        4.29        2.66                578\n",
              "129674         5.78        4.06        2.64               2852\n",
              "202117         8.06        8.09        5.00              15501\n",
              "207909         8.02        8.09        4.94              20074\n",
              "81766          4.55        4.58        2.87               1214"
            ],
            "text/html": [
              "\n",
              "  <div id=\"df-11f180dd-3c3b-4782-a046-de4de2b6f7dc\">\n",
              "    <div class=\"colab-df-container\">\n",
              "      <div>\n",
              "<style scoped>\n",
              "    .dataframe tbody tr th:only-of-type {\n",
              "        vertical-align: middle;\n",
              "    }\n",
              "\n",
              "    .dataframe tbody tr th {\n",
              "        vertical-align: top;\n",
              "    }\n",
              "\n",
              "    .dataframe thead th {\n",
              "        text-align: right;\n",
              "    }\n",
              "</style>\n",
              "<table border=\"1\" class=\"dataframe\">\n",
              "  <thead>\n",
              "    <tr style=\"text-align: right;\">\n",
              "      <th></th>\n",
              "      <th>meas_length</th>\n",
              "      <th>meas_width</th>\n",
              "      <th>meas_depth</th>\n",
              "      <th>total_sales_price</th>\n",
              "    </tr>\n",
              "  </thead>\n",
              "  <tbody>\n",
              "    <tr>\n",
              "      <th>43360</th>\n",
              "      <td>3.91</td>\n",
              "      <td>3.92</td>\n",
              "      <td>2.43</td>\n",
              "      <td>896</td>\n",
              "    </tr>\n",
              "    <tr>\n",
              "      <th>186628</th>\n",
              "      <td>7.27</td>\n",
              "      <td>7.32</td>\n",
              "      <td>4.49</td>\n",
              "      <td>9441</td>\n",
              "    </tr>\n",
              "    <tr>\n",
              "      <th>6711</th>\n",
              "      <td>4.25</td>\n",
              "      <td>4.27</td>\n",
              "      <td>2.59</td>\n",
              "      <td>604</td>\n",
              "    </tr>\n",
              "    <tr>\n",
              "      <th>71467</th>\n",
              "      <td>4.30</td>\n",
              "      <td>4.34</td>\n",
              "      <td>2.66</td>\n",
              "      <td>1062</td>\n",
              "    </tr>\n",
              "    <tr>\n",
              "      <th>2274</th>\n",
              "      <td>4.07</td>\n",
              "      <td>2.72</td>\n",
              "      <td>1.79</td>\n",
              "      <td>440</td>\n",
              "    </tr>\n",
              "    <tr>\n",
              "      <th>5970</th>\n",
              "      <td>4.24</td>\n",
              "      <td>4.29</td>\n",
              "      <td>2.66</td>\n",
              "      <td>578</td>\n",
              "    </tr>\n",
              "    <tr>\n",
              "      <th>129674</th>\n",
              "      <td>5.78</td>\n",
              "      <td>4.06</td>\n",
              "      <td>2.64</td>\n",
              "      <td>2852</td>\n",
              "    </tr>\n",
              "    <tr>\n",
              "      <th>202117</th>\n",
              "      <td>8.06</td>\n",
              "      <td>8.09</td>\n",
              "      <td>5.00</td>\n",
              "      <td>15501</td>\n",
              "    </tr>\n",
              "    <tr>\n",
              "      <th>207909</th>\n",
              "      <td>8.02</td>\n",
              "      <td>8.09</td>\n",
              "      <td>4.94</td>\n",
              "      <td>20074</td>\n",
              "    </tr>\n",
              "    <tr>\n",
              "      <th>81766</th>\n",
              "      <td>4.55</td>\n",
              "      <td>4.58</td>\n",
              "      <td>2.87</td>\n",
              "      <td>1214</td>\n",
              "    </tr>\n",
              "  </tbody>\n",
              "</table>\n",
              "</div>\n",
              "      <button class=\"colab-df-convert\" onclick=\"convertToInteractive('df-11f180dd-3c3b-4782-a046-de4de2b6f7dc')\"\n",
              "              title=\"Convert this dataframe to an interactive table.\"\n",
              "              style=\"display:none;\">\n",
              "        \n",
              "  <svg xmlns=\"http://www.w3.org/2000/svg\" height=\"24px\"viewBox=\"0 0 24 24\"\n",
              "       width=\"24px\">\n",
              "    <path d=\"M0 0h24v24H0V0z\" fill=\"none\"/>\n",
              "    <path d=\"M18.56 5.44l.94 2.06.94-2.06 2.06-.94-2.06-.94-.94-2.06-.94 2.06-2.06.94zm-11 1L8.5 8.5l.94-2.06 2.06-.94-2.06-.94L8.5 2.5l-.94 2.06-2.06.94zm10 10l.94 2.06.94-2.06 2.06-.94-2.06-.94-.94-2.06-.94 2.06-2.06.94z\"/><path d=\"M17.41 7.96l-1.37-1.37c-.4-.4-.92-.59-1.43-.59-.52 0-1.04.2-1.43.59L10.3 9.45l-7.72 7.72c-.78.78-.78 2.05 0 2.83L4 21.41c.39.39.9.59 1.41.59.51 0 1.02-.2 1.41-.59l7.78-7.78 2.81-2.81c.8-.78.8-2.07 0-2.86zM5.41 20L4 18.59l7.72-7.72 1.47 1.35L5.41 20z\"/>\n",
              "  </svg>\n",
              "      </button>\n",
              "      \n",
              "  <style>\n",
              "    .colab-df-container {\n",
              "      display:flex;\n",
              "      flex-wrap:wrap;\n",
              "      gap: 12px;\n",
              "    }\n",
              "\n",
              "    .colab-df-convert {\n",
              "      background-color: #E8F0FE;\n",
              "      border: none;\n",
              "      border-radius: 50%;\n",
              "      cursor: pointer;\n",
              "      display: none;\n",
              "      fill: #1967D2;\n",
              "      height: 32px;\n",
              "      padding: 0 0 0 0;\n",
              "      width: 32px;\n",
              "    }\n",
              "\n",
              "    .colab-df-convert:hover {\n",
              "      background-color: #E2EBFA;\n",
              "      box-shadow: 0px 1px 2px rgba(60, 64, 67, 0.3), 0px 1px 3px 1px rgba(60, 64, 67, 0.15);\n",
              "      fill: #174EA6;\n",
              "    }\n",
              "\n",
              "    [theme=dark] .colab-df-convert {\n",
              "      background-color: #3B4455;\n",
              "      fill: #D2E3FC;\n",
              "    }\n",
              "\n",
              "    [theme=dark] .colab-df-convert:hover {\n",
              "      background-color: #434B5C;\n",
              "      box-shadow: 0px 1px 3px 1px rgba(0, 0, 0, 0.15);\n",
              "      filter: drop-shadow(0px 1px 2px rgba(0, 0, 0, 0.3));\n",
              "      fill: #FFFFFF;\n",
              "    }\n",
              "  </style>\n",
              "\n",
              "      <script>\n",
              "        const buttonEl =\n",
              "          document.querySelector('#df-11f180dd-3c3b-4782-a046-de4de2b6f7dc button.colab-df-convert');\n",
              "        buttonEl.style.display =\n",
              "          google.colab.kernel.accessAllowed ? 'block' : 'none';\n",
              "\n",
              "        async function convertToInteractive(key) {\n",
              "          const element = document.querySelector('#df-11f180dd-3c3b-4782-a046-de4de2b6f7dc');\n",
              "          const dataTable =\n",
              "            await google.colab.kernel.invokeFunction('convertToInteractive',\n",
              "                                                     [key], {});\n",
              "          if (!dataTable) return;\n",
              "\n",
              "          const docLinkHtml = 'Like what you see? Visit the ' +\n",
              "            '<a target=\"_blank\" href=https://colab.research.google.com/notebooks/data_table.ipynb>data table notebook</a>'\n",
              "            + ' to learn more about interactive tables.';\n",
              "          element.innerHTML = '';\n",
              "          dataTable['output_type'] = 'display_data';\n",
              "          await google.colab.output.renderOutput(dataTable, element);\n",
              "          const docLink = document.createElement('div');\n",
              "          docLink.innerHTML = docLinkHtml;\n",
              "          element.appendChild(docLink);\n",
              "        }\n",
              "      </script>\n",
              "    </div>\n",
              "  </div>\n",
              "  "
            ]
          },
          "metadata": {},
          "execution_count": 49
        }
      ]
    },
    {
      "cell_type": "markdown",
      "source": [
        "(1 балл) Сформируем новую колонку - для каждого бриллианта найдем сумму Минковского (p=3) по 3 измерениям бриллианта:"
      ],
      "metadata": {
        "id": "iEHBNONDLl64"
      }
    },
    {
      "cell_type": "code",
      "source": [
        "shuffled_br['Minkowskiy_sum'] = ''\n",
        "shuffled_br['Minkowskiy_sum'] = (shuffled_br['meas_length'] ** 3 + shuffled_br['meas_width'] ** 3 + shuffled_br['meas_depth'] ** 3) ** (1/3)\n",
        "shuffled_br"
      ],
      "metadata": {
        "id": "V3CTAQbAMQsR",
        "colab": {
          "base_uri": "https://localhost:8080/",
          "height": 423
        },
        "outputId": "64cab70f-4260-4ed5-ccb1-43b4bd2dc848"
      },
      "execution_count": 50,
      "outputs": [
        {
          "output_type": "execute_result",
          "data": {
            "text/plain": [
              "        meas_length  meas_width  meas_depth  total_sales_price  Minkowskiy_sum\n",
              "43360          3.91        3.92        2.43                896        5.121830\n",
              "186628         7.27        7.32        4.49               9441        9.535353\n",
              "6711           4.25        4.27        2.59                604        5.561234\n",
              "71467          4.30        4.34        2.66               1062        5.646996\n",
              "2274           4.07        2.72        1.79                440        4.535167\n",
              "...             ...         ...         ...                ...             ...\n",
              "112448         5.38        5.42        3.35               2118        7.064281\n",
              "43355          4.49        4.50        2.81                896        5.885148\n",
              "140625         5.09        5.13        3.18               3378        6.687147\n",
              "133683         5.66        5.68        3.56               3010        7.427086\n",
              "146944         5.62        5.67        3.58               3640        7.402722\n",
              "\n",
              "[219703 rows x 5 columns]"
            ],
            "text/html": [
              "\n",
              "  <div id=\"df-dfab5ce9-428c-4d36-b703-a0f3e2c9cd04\">\n",
              "    <div class=\"colab-df-container\">\n",
              "      <div>\n",
              "<style scoped>\n",
              "    .dataframe tbody tr th:only-of-type {\n",
              "        vertical-align: middle;\n",
              "    }\n",
              "\n",
              "    .dataframe tbody tr th {\n",
              "        vertical-align: top;\n",
              "    }\n",
              "\n",
              "    .dataframe thead th {\n",
              "        text-align: right;\n",
              "    }\n",
              "</style>\n",
              "<table border=\"1\" class=\"dataframe\">\n",
              "  <thead>\n",
              "    <tr style=\"text-align: right;\">\n",
              "      <th></th>\n",
              "      <th>meas_length</th>\n",
              "      <th>meas_width</th>\n",
              "      <th>meas_depth</th>\n",
              "      <th>total_sales_price</th>\n",
              "      <th>Minkowskiy_sum</th>\n",
              "    </tr>\n",
              "  </thead>\n",
              "  <tbody>\n",
              "    <tr>\n",
              "      <th>43360</th>\n",
              "      <td>3.91</td>\n",
              "      <td>3.92</td>\n",
              "      <td>2.43</td>\n",
              "      <td>896</td>\n",
              "      <td>5.121830</td>\n",
              "    </tr>\n",
              "    <tr>\n",
              "      <th>186628</th>\n",
              "      <td>7.27</td>\n",
              "      <td>7.32</td>\n",
              "      <td>4.49</td>\n",
              "      <td>9441</td>\n",
              "      <td>9.535353</td>\n",
              "    </tr>\n",
              "    <tr>\n",
              "      <th>6711</th>\n",
              "      <td>4.25</td>\n",
              "      <td>4.27</td>\n",
              "      <td>2.59</td>\n",
              "      <td>604</td>\n",
              "      <td>5.561234</td>\n",
              "    </tr>\n",
              "    <tr>\n",
              "      <th>71467</th>\n",
              "      <td>4.30</td>\n",
              "      <td>4.34</td>\n",
              "      <td>2.66</td>\n",
              "      <td>1062</td>\n",
              "      <td>5.646996</td>\n",
              "    </tr>\n",
              "    <tr>\n",
              "      <th>2274</th>\n",
              "      <td>4.07</td>\n",
              "      <td>2.72</td>\n",
              "      <td>1.79</td>\n",
              "      <td>440</td>\n",
              "      <td>4.535167</td>\n",
              "    </tr>\n",
              "    <tr>\n",
              "      <th>...</th>\n",
              "      <td>...</td>\n",
              "      <td>...</td>\n",
              "      <td>...</td>\n",
              "      <td>...</td>\n",
              "      <td>...</td>\n",
              "    </tr>\n",
              "    <tr>\n",
              "      <th>112448</th>\n",
              "      <td>5.38</td>\n",
              "      <td>5.42</td>\n",
              "      <td>3.35</td>\n",
              "      <td>2118</td>\n",
              "      <td>7.064281</td>\n",
              "    </tr>\n",
              "    <tr>\n",
              "      <th>43355</th>\n",
              "      <td>4.49</td>\n",
              "      <td>4.50</td>\n",
              "      <td>2.81</td>\n",
              "      <td>896</td>\n",
              "      <td>5.885148</td>\n",
              "    </tr>\n",
              "    <tr>\n",
              "      <th>140625</th>\n",
              "      <td>5.09</td>\n",
              "      <td>5.13</td>\n",
              "      <td>3.18</td>\n",
              "      <td>3378</td>\n",
              "      <td>6.687147</td>\n",
              "    </tr>\n",
              "    <tr>\n",
              "      <th>133683</th>\n",
              "      <td>5.66</td>\n",
              "      <td>5.68</td>\n",
              "      <td>3.56</td>\n",
              "      <td>3010</td>\n",
              "      <td>7.427086</td>\n",
              "    </tr>\n",
              "    <tr>\n",
              "      <th>146944</th>\n",
              "      <td>5.62</td>\n",
              "      <td>5.67</td>\n",
              "      <td>3.58</td>\n",
              "      <td>3640</td>\n",
              "      <td>7.402722</td>\n",
              "    </tr>\n",
              "  </tbody>\n",
              "</table>\n",
              "<p>219703 rows × 5 columns</p>\n",
              "</div>\n",
              "      <button class=\"colab-df-convert\" onclick=\"convertToInteractive('df-dfab5ce9-428c-4d36-b703-a0f3e2c9cd04')\"\n",
              "              title=\"Convert this dataframe to an interactive table.\"\n",
              "              style=\"display:none;\">\n",
              "        \n",
              "  <svg xmlns=\"http://www.w3.org/2000/svg\" height=\"24px\"viewBox=\"0 0 24 24\"\n",
              "       width=\"24px\">\n",
              "    <path d=\"M0 0h24v24H0V0z\" fill=\"none\"/>\n",
              "    <path d=\"M18.56 5.44l.94 2.06.94-2.06 2.06-.94-2.06-.94-.94-2.06-.94 2.06-2.06.94zm-11 1L8.5 8.5l.94-2.06 2.06-.94-2.06-.94L8.5 2.5l-.94 2.06-2.06.94zm10 10l.94 2.06.94-2.06 2.06-.94-2.06-.94-.94-2.06-.94 2.06-2.06.94z\"/><path d=\"M17.41 7.96l-1.37-1.37c-.4-.4-.92-.59-1.43-.59-.52 0-1.04.2-1.43.59L10.3 9.45l-7.72 7.72c-.78.78-.78 2.05 0 2.83L4 21.41c.39.39.9.59 1.41.59.51 0 1.02-.2 1.41-.59l7.78-7.78 2.81-2.81c.8-.78.8-2.07 0-2.86zM5.41 20L4 18.59l7.72-7.72 1.47 1.35L5.41 20z\"/>\n",
              "  </svg>\n",
              "      </button>\n",
              "      \n",
              "  <style>\n",
              "    .colab-df-container {\n",
              "      display:flex;\n",
              "      flex-wrap:wrap;\n",
              "      gap: 12px;\n",
              "    }\n",
              "\n",
              "    .colab-df-convert {\n",
              "      background-color: #E8F0FE;\n",
              "      border: none;\n",
              "      border-radius: 50%;\n",
              "      cursor: pointer;\n",
              "      display: none;\n",
              "      fill: #1967D2;\n",
              "      height: 32px;\n",
              "      padding: 0 0 0 0;\n",
              "      width: 32px;\n",
              "    }\n",
              "\n",
              "    .colab-df-convert:hover {\n",
              "      background-color: #E2EBFA;\n",
              "      box-shadow: 0px 1px 2px rgba(60, 64, 67, 0.3), 0px 1px 3px 1px rgba(60, 64, 67, 0.15);\n",
              "      fill: #174EA6;\n",
              "    }\n",
              "\n",
              "    [theme=dark] .colab-df-convert {\n",
              "      background-color: #3B4455;\n",
              "      fill: #D2E3FC;\n",
              "    }\n",
              "\n",
              "    [theme=dark] .colab-df-convert:hover {\n",
              "      background-color: #434B5C;\n",
              "      box-shadow: 0px 1px 3px 1px rgba(0, 0, 0, 0.15);\n",
              "      filter: drop-shadow(0px 1px 2px rgba(0, 0, 0, 0.3));\n",
              "      fill: #FFFFFF;\n",
              "    }\n",
              "  </style>\n",
              "\n",
              "      <script>\n",
              "        const buttonEl =\n",
              "          document.querySelector('#df-dfab5ce9-428c-4d36-b703-a0f3e2c9cd04 button.colab-df-convert');\n",
              "        buttonEl.style.display =\n",
              "          google.colab.kernel.accessAllowed ? 'block' : 'none';\n",
              "\n",
              "        async function convertToInteractive(key) {\n",
              "          const element = document.querySelector('#df-dfab5ce9-428c-4d36-b703-a0f3e2c9cd04');\n",
              "          const dataTable =\n",
              "            await google.colab.kernel.invokeFunction('convertToInteractive',\n",
              "                                                     [key], {});\n",
              "          if (!dataTable) return;\n",
              "\n",
              "          const docLinkHtml = 'Like what you see? Visit the ' +\n",
              "            '<a target=\"_blank\" href=https://colab.research.google.com/notebooks/data_table.ipynb>data table notebook</a>'\n",
              "            + ' to learn more about interactive tables.';\n",
              "          element.innerHTML = '';\n",
              "          dataTable['output_type'] = 'display_data';\n",
              "          await google.colab.output.renderOutput(dataTable, element);\n",
              "          const docLink = document.createElement('div');\n",
              "          docLink.innerHTML = docLinkHtml;\n",
              "          element.appendChild(docLink);\n",
              "        }\n",
              "      </script>\n",
              "    </div>\n",
              "  </div>\n",
              "  "
            ]
          },
          "metadata": {},
          "execution_count": 50
        }
      ]
    },
    {
      "cell_type": "markdown",
      "source": [
        "(1 балл) Сформируем новый датасет из двух колонок - сумма Минковского и `total_sales_price`: "
      ],
      "metadata": {
        "id": "z5s5_yB8n1Hp"
      }
    },
    {
      "cell_type": "code",
      "source": [
        "new_ = shuffled_br[['Minkowskiy_sum', 'total_sales_price']]\n",
        "new_"
      ],
      "metadata": {
        "id": "tXxZnWS7n9q0",
        "colab": {
          "base_uri": "https://localhost:8080/",
          "height": 423
        },
        "outputId": "444db6d4-6052-4c23-e4a3-a91ceb2ac686"
      },
      "execution_count": 51,
      "outputs": [
        {
          "output_type": "execute_result",
          "data": {
            "text/plain": [
              "        Minkowskiy_sum  total_sales_price\n",
              "43360         5.121830                896\n",
              "186628        9.535353               9441\n",
              "6711          5.561234                604\n",
              "71467         5.646996               1062\n",
              "2274          4.535167                440\n",
              "...                ...                ...\n",
              "112448        7.064281               2118\n",
              "43355         5.885148                896\n",
              "140625        6.687147               3378\n",
              "133683        7.427086               3010\n",
              "146944        7.402722               3640\n",
              "\n",
              "[219703 rows x 2 columns]"
            ],
            "text/html": [
              "\n",
              "  <div id=\"df-a746a877-4e7c-4d67-96f7-b3555eef14fc\">\n",
              "    <div class=\"colab-df-container\">\n",
              "      <div>\n",
              "<style scoped>\n",
              "    .dataframe tbody tr th:only-of-type {\n",
              "        vertical-align: middle;\n",
              "    }\n",
              "\n",
              "    .dataframe tbody tr th {\n",
              "        vertical-align: top;\n",
              "    }\n",
              "\n",
              "    .dataframe thead th {\n",
              "        text-align: right;\n",
              "    }\n",
              "</style>\n",
              "<table border=\"1\" class=\"dataframe\">\n",
              "  <thead>\n",
              "    <tr style=\"text-align: right;\">\n",
              "      <th></th>\n",
              "      <th>Minkowskiy_sum</th>\n",
              "      <th>total_sales_price</th>\n",
              "    </tr>\n",
              "  </thead>\n",
              "  <tbody>\n",
              "    <tr>\n",
              "      <th>43360</th>\n",
              "      <td>5.121830</td>\n",
              "      <td>896</td>\n",
              "    </tr>\n",
              "    <tr>\n",
              "      <th>186628</th>\n",
              "      <td>9.535353</td>\n",
              "      <td>9441</td>\n",
              "    </tr>\n",
              "    <tr>\n",
              "      <th>6711</th>\n",
              "      <td>5.561234</td>\n",
              "      <td>604</td>\n",
              "    </tr>\n",
              "    <tr>\n",
              "      <th>71467</th>\n",
              "      <td>5.646996</td>\n",
              "      <td>1062</td>\n",
              "    </tr>\n",
              "    <tr>\n",
              "      <th>2274</th>\n",
              "      <td>4.535167</td>\n",
              "      <td>440</td>\n",
              "    </tr>\n",
              "    <tr>\n",
              "      <th>...</th>\n",
              "      <td>...</td>\n",
              "      <td>...</td>\n",
              "    </tr>\n",
              "    <tr>\n",
              "      <th>112448</th>\n",
              "      <td>7.064281</td>\n",
              "      <td>2118</td>\n",
              "    </tr>\n",
              "    <tr>\n",
              "      <th>43355</th>\n",
              "      <td>5.885148</td>\n",
              "      <td>896</td>\n",
              "    </tr>\n",
              "    <tr>\n",
              "      <th>140625</th>\n",
              "      <td>6.687147</td>\n",
              "      <td>3378</td>\n",
              "    </tr>\n",
              "    <tr>\n",
              "      <th>133683</th>\n",
              "      <td>7.427086</td>\n",
              "      <td>3010</td>\n",
              "    </tr>\n",
              "    <tr>\n",
              "      <th>146944</th>\n",
              "      <td>7.402722</td>\n",
              "      <td>3640</td>\n",
              "    </tr>\n",
              "  </tbody>\n",
              "</table>\n",
              "<p>219703 rows × 2 columns</p>\n",
              "</div>\n",
              "      <button class=\"colab-df-convert\" onclick=\"convertToInteractive('df-a746a877-4e7c-4d67-96f7-b3555eef14fc')\"\n",
              "              title=\"Convert this dataframe to an interactive table.\"\n",
              "              style=\"display:none;\">\n",
              "        \n",
              "  <svg xmlns=\"http://www.w3.org/2000/svg\" height=\"24px\"viewBox=\"0 0 24 24\"\n",
              "       width=\"24px\">\n",
              "    <path d=\"M0 0h24v24H0V0z\" fill=\"none\"/>\n",
              "    <path d=\"M18.56 5.44l.94 2.06.94-2.06 2.06-.94-2.06-.94-.94-2.06-.94 2.06-2.06.94zm-11 1L8.5 8.5l.94-2.06 2.06-.94-2.06-.94L8.5 2.5l-.94 2.06-2.06.94zm10 10l.94 2.06.94-2.06 2.06-.94-2.06-.94-.94-2.06-.94 2.06-2.06.94z\"/><path d=\"M17.41 7.96l-1.37-1.37c-.4-.4-.92-.59-1.43-.59-.52 0-1.04.2-1.43.59L10.3 9.45l-7.72 7.72c-.78.78-.78 2.05 0 2.83L4 21.41c.39.39.9.59 1.41.59.51 0 1.02-.2 1.41-.59l7.78-7.78 2.81-2.81c.8-.78.8-2.07 0-2.86zM5.41 20L4 18.59l7.72-7.72 1.47 1.35L5.41 20z\"/>\n",
              "  </svg>\n",
              "      </button>\n",
              "      \n",
              "  <style>\n",
              "    .colab-df-container {\n",
              "      display:flex;\n",
              "      flex-wrap:wrap;\n",
              "      gap: 12px;\n",
              "    }\n",
              "\n",
              "    .colab-df-convert {\n",
              "      background-color: #E8F0FE;\n",
              "      border: none;\n",
              "      border-radius: 50%;\n",
              "      cursor: pointer;\n",
              "      display: none;\n",
              "      fill: #1967D2;\n",
              "      height: 32px;\n",
              "      padding: 0 0 0 0;\n",
              "      width: 32px;\n",
              "    }\n",
              "\n",
              "    .colab-df-convert:hover {\n",
              "      background-color: #E2EBFA;\n",
              "      box-shadow: 0px 1px 2px rgba(60, 64, 67, 0.3), 0px 1px 3px 1px rgba(60, 64, 67, 0.15);\n",
              "      fill: #174EA6;\n",
              "    }\n",
              "\n",
              "    [theme=dark] .colab-df-convert {\n",
              "      background-color: #3B4455;\n",
              "      fill: #D2E3FC;\n",
              "    }\n",
              "\n",
              "    [theme=dark] .colab-df-convert:hover {\n",
              "      background-color: #434B5C;\n",
              "      box-shadow: 0px 1px 3px 1px rgba(0, 0, 0, 0.15);\n",
              "      filter: drop-shadow(0px 1px 2px rgba(0, 0, 0, 0.3));\n",
              "      fill: #FFFFFF;\n",
              "    }\n",
              "  </style>\n",
              "\n",
              "      <script>\n",
              "        const buttonEl =\n",
              "          document.querySelector('#df-a746a877-4e7c-4d67-96f7-b3555eef14fc button.colab-df-convert');\n",
              "        buttonEl.style.display =\n",
              "          google.colab.kernel.accessAllowed ? 'block' : 'none';\n",
              "\n",
              "        async function convertToInteractive(key) {\n",
              "          const element = document.querySelector('#df-a746a877-4e7c-4d67-96f7-b3555eef14fc');\n",
              "          const dataTable =\n",
              "            await google.colab.kernel.invokeFunction('convertToInteractive',\n",
              "                                                     [key], {});\n",
              "          if (!dataTable) return;\n",
              "\n",
              "          const docLinkHtml = 'Like what you see? Visit the ' +\n",
              "            '<a target=\"_blank\" href=https://colab.research.google.com/notebooks/data_table.ipynb>data table notebook</a>'\n",
              "            + ' to learn more about interactive tables.';\n",
              "          element.innerHTML = '';\n",
              "          dataTable['output_type'] = 'display_data';\n",
              "          await google.colab.output.renderOutput(dataTable, element);\n",
              "          const docLink = document.createElement('div');\n",
              "          docLink.innerHTML = docLinkHtml;\n",
              "          element.appendChild(docLink);\n",
              "        }\n",
              "      </script>\n",
              "    </div>\n",
              "  </div>\n",
              "  "
            ]
          },
          "metadata": {},
          "execution_count": 51
        }
      ]
    },
    {
      "cell_type": "markdown",
      "source": [
        "(1 балл) Разделите вашу выборку на две части в соотношении 8:2 - одна выборка будет для тренировка, а другая для тестов вашей модели:"
      ],
      "metadata": {
        "id": "aXCp0GmUKOvM"
      }
    },
    {
      "cell_type": "code",
      "source": [
        "train_data = new_[:int(0.8*len(new_))]\n",
        "test_data = new_[int(0.8*len(new_)):]\n",
        "train_data\n",
        "test_data"
      ],
      "metadata": {
        "id": "rxwHhdnFK3Lz",
        "colab": {
          "base_uri": "https://localhost:8080/",
          "height": 423
        },
        "outputId": "77f35c5a-2cc4-444a-f9e6-1b1aff9b99c7"
      },
      "execution_count": 76,
      "outputs": [
        {
          "output_type": "execute_result",
          "data": {
            "text/plain": [
              "        Minkowskiy_sum  total_sales_price\n",
              "166939        8.665096               5714\n",
              "136366        6.582241               3258\n",
              "3722          5.734134                554\n",
              "150267        6.684823               3746\n",
              "165958        8.326662               5544\n",
              "...                ...                ...\n",
              "112448        7.064281               2118\n",
              "43355         5.885148                896\n",
              "140625        6.687147               3378\n",
              "133683        7.427086               3010\n",
              "146944        7.402722               3640\n",
              "\n",
              "[43941 rows x 2 columns]"
            ],
            "text/html": [
              "\n",
              "  <div id=\"df-b0fd4869-d4b8-405b-914e-cd1b21760fa0\">\n",
              "    <div class=\"colab-df-container\">\n",
              "      <div>\n",
              "<style scoped>\n",
              "    .dataframe tbody tr th:only-of-type {\n",
              "        vertical-align: middle;\n",
              "    }\n",
              "\n",
              "    .dataframe tbody tr th {\n",
              "        vertical-align: top;\n",
              "    }\n",
              "\n",
              "    .dataframe thead th {\n",
              "        text-align: right;\n",
              "    }\n",
              "</style>\n",
              "<table border=\"1\" class=\"dataframe\">\n",
              "  <thead>\n",
              "    <tr style=\"text-align: right;\">\n",
              "      <th></th>\n",
              "      <th>Minkowskiy_sum</th>\n",
              "      <th>total_sales_price</th>\n",
              "    </tr>\n",
              "  </thead>\n",
              "  <tbody>\n",
              "    <tr>\n",
              "      <th>166939</th>\n",
              "      <td>8.665096</td>\n",
              "      <td>5714</td>\n",
              "    </tr>\n",
              "    <tr>\n",
              "      <th>136366</th>\n",
              "      <td>6.582241</td>\n",
              "      <td>3258</td>\n",
              "    </tr>\n",
              "    <tr>\n",
              "      <th>3722</th>\n",
              "      <td>5.734134</td>\n",
              "      <td>554</td>\n",
              "    </tr>\n",
              "    <tr>\n",
              "      <th>150267</th>\n",
              "      <td>6.684823</td>\n",
              "      <td>3746</td>\n",
              "    </tr>\n",
              "    <tr>\n",
              "      <th>165958</th>\n",
              "      <td>8.326662</td>\n",
              "      <td>5544</td>\n",
              "    </tr>\n",
              "    <tr>\n",
              "      <th>...</th>\n",
              "      <td>...</td>\n",
              "      <td>...</td>\n",
              "    </tr>\n",
              "    <tr>\n",
              "      <th>112448</th>\n",
              "      <td>7.064281</td>\n",
              "      <td>2118</td>\n",
              "    </tr>\n",
              "    <tr>\n",
              "      <th>43355</th>\n",
              "      <td>5.885148</td>\n",
              "      <td>896</td>\n",
              "    </tr>\n",
              "    <tr>\n",
              "      <th>140625</th>\n",
              "      <td>6.687147</td>\n",
              "      <td>3378</td>\n",
              "    </tr>\n",
              "    <tr>\n",
              "      <th>133683</th>\n",
              "      <td>7.427086</td>\n",
              "      <td>3010</td>\n",
              "    </tr>\n",
              "    <tr>\n",
              "      <th>146944</th>\n",
              "      <td>7.402722</td>\n",
              "      <td>3640</td>\n",
              "    </tr>\n",
              "  </tbody>\n",
              "</table>\n",
              "<p>43941 rows × 2 columns</p>\n",
              "</div>\n",
              "      <button class=\"colab-df-convert\" onclick=\"convertToInteractive('df-b0fd4869-d4b8-405b-914e-cd1b21760fa0')\"\n",
              "              title=\"Convert this dataframe to an interactive table.\"\n",
              "              style=\"display:none;\">\n",
              "        \n",
              "  <svg xmlns=\"http://www.w3.org/2000/svg\" height=\"24px\"viewBox=\"0 0 24 24\"\n",
              "       width=\"24px\">\n",
              "    <path d=\"M0 0h24v24H0V0z\" fill=\"none\"/>\n",
              "    <path d=\"M18.56 5.44l.94 2.06.94-2.06 2.06-.94-2.06-.94-.94-2.06-.94 2.06-2.06.94zm-11 1L8.5 8.5l.94-2.06 2.06-.94-2.06-.94L8.5 2.5l-.94 2.06-2.06.94zm10 10l.94 2.06.94-2.06 2.06-.94-2.06-.94-.94-2.06-.94 2.06-2.06.94z\"/><path d=\"M17.41 7.96l-1.37-1.37c-.4-.4-.92-.59-1.43-.59-.52 0-1.04.2-1.43.59L10.3 9.45l-7.72 7.72c-.78.78-.78 2.05 0 2.83L4 21.41c.39.39.9.59 1.41.59.51 0 1.02-.2 1.41-.59l7.78-7.78 2.81-2.81c.8-.78.8-2.07 0-2.86zM5.41 20L4 18.59l7.72-7.72 1.47 1.35L5.41 20z\"/>\n",
              "  </svg>\n",
              "      </button>\n",
              "      \n",
              "  <style>\n",
              "    .colab-df-container {\n",
              "      display:flex;\n",
              "      flex-wrap:wrap;\n",
              "      gap: 12px;\n",
              "    }\n",
              "\n",
              "    .colab-df-convert {\n",
              "      background-color: #E8F0FE;\n",
              "      border: none;\n",
              "      border-radius: 50%;\n",
              "      cursor: pointer;\n",
              "      display: none;\n",
              "      fill: #1967D2;\n",
              "      height: 32px;\n",
              "      padding: 0 0 0 0;\n",
              "      width: 32px;\n",
              "    }\n",
              "\n",
              "    .colab-df-convert:hover {\n",
              "      background-color: #E2EBFA;\n",
              "      box-shadow: 0px 1px 2px rgba(60, 64, 67, 0.3), 0px 1px 3px 1px rgba(60, 64, 67, 0.15);\n",
              "      fill: #174EA6;\n",
              "    }\n",
              "\n",
              "    [theme=dark] .colab-df-convert {\n",
              "      background-color: #3B4455;\n",
              "      fill: #D2E3FC;\n",
              "    }\n",
              "\n",
              "    [theme=dark] .colab-df-convert:hover {\n",
              "      background-color: #434B5C;\n",
              "      box-shadow: 0px 1px 3px 1px rgba(0, 0, 0, 0.15);\n",
              "      filter: drop-shadow(0px 1px 2px rgba(0, 0, 0, 0.3));\n",
              "      fill: #FFFFFF;\n",
              "    }\n",
              "  </style>\n",
              "\n",
              "      <script>\n",
              "        const buttonEl =\n",
              "          document.querySelector('#df-b0fd4869-d4b8-405b-914e-cd1b21760fa0 button.colab-df-convert');\n",
              "        buttonEl.style.display =\n",
              "          google.colab.kernel.accessAllowed ? 'block' : 'none';\n",
              "\n",
              "        async function convertToInteractive(key) {\n",
              "          const element = document.querySelector('#df-b0fd4869-d4b8-405b-914e-cd1b21760fa0');\n",
              "          const dataTable =\n",
              "            await google.colab.kernel.invokeFunction('convertToInteractive',\n",
              "                                                     [key], {});\n",
              "          if (!dataTable) return;\n",
              "\n",
              "          const docLinkHtml = 'Like what you see? Visit the ' +\n",
              "            '<a target=\"_blank\" href=https://colab.research.google.com/notebooks/data_table.ipynb>data table notebook</a>'\n",
              "            + ' to learn more about interactive tables.';\n",
              "          element.innerHTML = '';\n",
              "          dataTable['output_type'] = 'display_data';\n",
              "          await google.colab.output.renderOutput(dataTable, element);\n",
              "          const docLink = document.createElement('div');\n",
              "          docLink.innerHTML = docLinkHtml;\n",
              "          element.appendChild(docLink);\n",
              "        }\n",
              "      </script>\n",
              "    </div>\n",
              "  </div>\n",
              "  "
            ]
          },
          "metadata": {},
          "execution_count": 76
        }
      ]
    },
    {
      "cell_type": "markdown",
      "source": [
        "(2 балла) Постройте график зависимости стоимости от вашего нового параметра размера для тренинг-выборки:"
      ],
      "metadata": {
        "id": "lhuRoIMRK3S3"
      }
    },
    {
      "cell_type": "code",
      "source": [
        "sns.scatterplot(x='Minkowskiy_sum', y='total_sales_price', data=train_data, label='training-бриллиант', alpha=0.3)\n",
        "plt.xlabel('сумма Минковского')\n",
        "plt.ylabel('цена')\n",
        "plt.title('График сумма Минковского-цена')\n",
        "plt.legend()\n",
        "plt.show()"
      ],
      "metadata": {
        "id": "zdXv0wimNNZq",
        "colab": {
          "base_uri": "https://localhost:8080/",
          "height": 472
        },
        "outputId": "36545699-2085-4d9e-85c4-15bde86f129c"
      },
      "execution_count": 79,
      "outputs": [
        {
          "output_type": "display_data",
          "data": {
            "text/plain": [
              "<Figure size 640x480 with 1 Axes>"
            ],
            "image/png": "[encoded data removed]"
          },
          "metadata": {}
        }
      ]
    },
    {
      "cell_type": "markdown",
      "source": [
        "(2 балла) Нанесите на тот же график тестовую выборку, используя другой цвет (не забудьте про параметр прозрачности):"
      ],
      "metadata": {
        "id": "0cUx_FSiNOUx"
      }
    },
    {
      "cell_type": "code",
      "source": [
        "sns.scatterplot(x='Minkowskiy_sum', y='total_sales_price', data=train_data, label='training-бриллиант', alpha=0.1, c='blue')\n",
        "sns.scatterplot(x='Minkowskiy_sum', y='total_sales_price', data=test_data, label='test-бриллиант', alpha=0.1, c='red')\n",
        "plt.xlabel('сумма Минковского')\n",
        "plt.ylabel('цена')\n",
        "plt.title('График сумма Минковского-цена')\n",
        "plt.legend()\n",
        "plt.show()"
      ],
      "metadata": {
        "id": "R09w4W7VNnM2",
        "colab": {
          "base_uri": "https://localhost:8080/",
          "height": 472
        },
        "outputId": "fdb2505d-20d6-461d-8a73-21b83776829b"
      },
      "execution_count": 82,
      "outputs": [
        {
          "output_type": "display_data",
          "data": {
            "text/plain": [
              "<Figure size 640x480 with 1 Axes>"
            ],
            "image/png": "[encoded data removed]"
          },
          "metadata": {}
        }
      ]
    },
    {
      "cell_type": "markdown",
      "source": [
        "(3 балла) Найдите для каждой бриллианта из тестовой выборки его \"ближайшего соседа\" из тренинг-выборки. Для каждого бриллианта из тестовой выборки найдите расстояния до соответствующего ближайшего соседа:"
      ],
      "metadata": {
        "id": "VwIIccnpNnVj"
      }
    },
    {
      "cell_type": "code",
      "source": [
        "distances = []\n",
        "for test_point in test_data:\n",
        "    point_distances = np.linalg.norm(train_data - test_point, axis=1)\n",
        "    min_distance = np.min(point_distances)\n",
        "    distances.append(min_distance)\n",
        "distances = np.array(distances)\n",
        "results = pd.DataFrame({'Diamond': test_df['Diamond'], 'Distance': distances})\n",
        "print(results)"
      ],
      "metadata": {
        "id": "t_jpKJ54OBb0",
        "colab": {
          "base_uri": "https://localhost:8080/",
          "height": 380
        },
        "outputId": "257523e2-d2d6-4965-fc9d-d737a4840610"
      },
      "execution_count": 84,
      "outputs": [
        {
          "output_type": "error",
          "ename": "UFuncTypeError",
          "evalue": "ignored",
          "traceback": [
            "\u001b[0;31m---------------------------------------------------------------------------\u001b[0m",
            "\u001b[0;31mUFuncTypeError\u001b[0m                            Traceback (most recent call last)",
            "\u001b[0;32m<ipython-input-84-a195d3ee919d>\u001b[0m in \u001b[0;36m<cell line: 2>\u001b[0;34m()\u001b[0m\n\u001b[1;32m      1\u001b[0m \u001b[0mdistances\u001b[0m \u001b[0;34m=\u001b[0m \u001b[0;34m[\u001b[0m\u001b[0;34m]\u001b[0m\u001b[0;34m\u001b[0m\u001b[0;34m\u001b[0m\u001b[0m\n\u001b[1;32m      2\u001b[0m \u001b[0;32mfor\u001b[0m \u001b[0mtest_point\u001b[0m \u001b[0;32min\u001b[0m \u001b[0mtest_data\u001b[0m\u001b[0;34m:\u001b[0m\u001b[0;34m\u001b[0m\u001b[0;34m\u001b[0m\u001b[0m\n\u001b[0;32m----> 3\u001b[0;31m     \u001b[0mpoint_distances\u001b[0m \u001b[0;34m=\u001b[0m \u001b[0mnp\u001b[0m\u001b[0;34m.\u001b[0m\u001b[0mlinalg\u001b[0m\u001b[0;34m.\u001b[0m\u001b[0mnorm\u001b[0m\u001b[0;34m(\u001b[0m\u001b[0mtrain_data\u001b[0m \u001b[0;34m-\u001b[0m \u001b[0mtest_point\u001b[0m\u001b[0;34m,\u001b[0m \u001b[0maxis\u001b[0m\u001b[0;34m=\u001b[0m\u001b[0;36m1\u001b[0m\u001b[0;34m)\u001b[0m\u001b[0;34m\u001b[0m\u001b[0;34m\u001b[0m\u001b[0m\n\u001b[0m\u001b[1;32m      4\u001b[0m     \u001b[0mmin_distance\u001b[0m \u001b[0;34m=\u001b[0m \u001b[0mnp\u001b[0m\u001b[0;34m.\u001b[0m\u001b[0mmin\u001b[0m\u001b[0;34m(\u001b[0m\u001b[0mpoint_distances\u001b[0m\u001b[0;34m)\u001b[0m\u001b[0;34m\u001b[0m\u001b[0;34m\u001b[0m\u001b[0m\n\u001b[1;32m      5\u001b[0m     \u001b[0mdistances\u001b[0m\u001b[0;34m.\u001b[0m\u001b[0mappend\u001b[0m\u001b[0;34m(\u001b[0m\u001b[0mmin_distance\u001b[0m\u001b[0;34m)\u001b[0m\u001b[0;34m\u001b[0m\u001b[0;34m\u001b[0m\u001b[0m\n",
            "\u001b[0;32m/usr/local/lib/python3.10/dist-packages/pandas/core/ops/common.py\u001b[0m in \u001b[0;36mnew_method\u001b[0;34m(self, other)\u001b[0m\n\u001b[1;32m     70\u001b[0m         \u001b[0mother\u001b[0m \u001b[0;34m=\u001b[0m \u001b[0mitem_from_zerodim\u001b[0m\u001b[0;34m(\u001b[0m\u001b[0mother\u001b[0m\u001b[0;34m)\u001b[0m\u001b[0;34m\u001b[0m\u001b[0;34m\u001b[0m\u001b[0m\n\u001b[1;32m     71\u001b[0m \u001b[0;34m\u001b[0m\u001b[0m\n\u001b[0;32m---> 72\u001b[0;31m         \u001b[0;32mreturn\u001b[0m \u001b[0mmethod\u001b[0m\u001b[0;34m(\u001b[0m\u001b[0mself\u001b[0m\u001b[0;34m,\u001b[0m \u001b[0mother\u001b[0m\u001b[0;34m)\u001b[0m\u001b[0;34m\u001b[0m\u001b[0;34m\u001b[0m\u001b[0m\n\u001b[0m\u001b[1;32m     73\u001b[0m \u001b[0;34m\u001b[0m\u001b[0m\n\u001b[1;32m     74\u001b[0m     \u001b[0;32mreturn\u001b[0m \u001b[0mnew_method\u001b[0m\u001b[0;34m\u001b[0m\u001b[0;34m\u001b[0m\u001b[0m\n",
            "\u001b[0;32m/usr/local/lib/python3.10/dist-packages/pandas/core/arraylike.py\u001b[0m in \u001b[0;36m__sub__\u001b[0;34m(self, other)\u001b[0m\n\u001b[1;32m    108\u001b[0m     \u001b[0;34m@\u001b[0m\u001b[0munpack_zerodim_and_defer\u001b[0m\u001b[0;34m(\u001b[0m\u001b[0;34m\"__sub__\"\u001b[0m\u001b[0;34m)\u001b[0m\u001b[0;34m\u001b[0m\u001b[0;34m\u001b[0m\u001b[0m\n\u001b[1;32m    109\u001b[0m     \u001b[0;32mdef\u001b[0m \u001b[0m__sub__\u001b[0m\u001b[0;34m(\u001b[0m\u001b[0mself\u001b[0m\u001b[0;34m,\u001b[0m \u001b[0mother\u001b[0m\u001b[0;34m)\u001b[0m\u001b[0;34m:\u001b[0m\u001b[0;34m\u001b[0m\u001b[0;34m\u001b[0m\u001b[0m\n\u001b[0;32m--> 110\u001b[0;31m         \u001b[0;32mreturn\u001b[0m \u001b[0mself\u001b[0m\u001b[0;34m.\u001b[0m\u001b[0m_arith_method\u001b[0m\u001b[0;34m(\u001b[0m\u001b[0mother\u001b[0m\u001b[0;34m,\u001b[0m \u001b[0moperator\u001b[0m\u001b[0;34m.\u001b[0m\u001b[0msub\u001b[0m\u001b[0;34m)\u001b[0m\u001b[0;34m\u001b[0m\u001b[0;34m\u001b[0m\u001b[0m\n\u001b[0m\u001b[1;32m    111\u001b[0m \u001b[0;34m\u001b[0m\u001b[0m\n\u001b[1;32m    112\u001b[0m     \u001b[0;34m@\u001b[0m\u001b[0munpack_zerodim_and_defer\u001b[0m\u001b[0;34m(\u001b[0m\u001b[0;34m\"__rsub__\"\u001b[0m\u001b[0;34m)\u001b[0m\u001b[0;34m\u001b[0m\u001b[0;34m\u001b[0m\u001b[0m\n",
            "\u001b[0;32m/usr/local/lib/python3.10/dist-packages/pandas/core/frame.py\u001b[0m in \u001b[0;36m_arith_method\u001b[0;34m(self, other, op)\u001b[0m\n\u001b[1;32m   7592\u001b[0m         \u001b[0mself\u001b[0m\u001b[0;34m,\u001b[0m \u001b[0mother\u001b[0m \u001b[0;34m=\u001b[0m \u001b[0mops\u001b[0m\u001b[0;34m.\u001b[0m\u001b[0malign_method_FRAME\u001b[0m\u001b[0;34m(\u001b[0m\u001b[0mself\u001b[0m\u001b[0;34m,\u001b[0m \u001b[0mother\u001b[0m\u001b[0;34m,\u001b[0m \u001b[0maxis\u001b[0m\u001b[0;34m,\u001b[0m \u001b[0mflex\u001b[0m\u001b[0;34m=\u001b[0m\u001b[0;32mTrue\u001b[0m\u001b[0;34m,\u001b[0m \u001b[0mlevel\u001b[0m\u001b[0;34m=\u001b[0m\u001b[0;32mNone\u001b[0m\u001b[0;34m)\u001b[0m\u001b[0;34m\u001b[0m\u001b[0;34m\u001b[0m\u001b[0m\n\u001b[1;32m   7593\u001b[0m \u001b[0;34m\u001b[0m\u001b[0m\n\u001b[0;32m-> 7594\u001b[0;31m         \u001b[0mnew_data\u001b[0m \u001b[0;34m=\u001b[0m \u001b[0mself\u001b[0m\u001b[0;34m.\u001b[0m\u001b[0m_dispatch_frame_op\u001b[0m\u001b[0;34m(\u001b[0m\u001b[0mother\u001b[0m\u001b[0;34m,\u001b[0m \u001b[0mop\u001b[0m\u001b[0;34m,\u001b[0m \u001b[0maxis\u001b[0m\u001b[0;34m=\u001b[0m\u001b[0maxis\u001b[0m\u001b[0;34m)\u001b[0m\u001b[0;34m\u001b[0m\u001b[0;34m\u001b[0m\u001b[0m\n\u001b[0m\u001b[1;32m   7595\u001b[0m         \u001b[0;32mreturn\u001b[0m \u001b[0mself\u001b[0m\u001b[0;34m.\u001b[0m\u001b[0m_construct_result\u001b[0m\u001b[0;34m(\u001b[0m\u001b[0mnew_data\u001b[0m\u001b[0;34m)\u001b[0m\u001b[0;34m\u001b[0m\u001b[0;34m\u001b[0m\u001b[0m\n\u001b[1;32m   7596\u001b[0m \u001b[0;34m\u001b[0m\u001b[0m\n",
            "\u001b[0;32m/usr/local/lib/python3.10/dist-packages/pandas/core/frame.py\u001b[0m in \u001b[0;36m_dispatch_frame_op\u001b[0;34m(self, right, func, axis)\u001b[0m\n\u001b[1;32m   7619\u001b[0m             \u001b[0;31m# i.e. scalar, faster than checking np.ndim(right) == 0\u001b[0m\u001b[0;34m\u001b[0m\u001b[0;34m\u001b[0m\u001b[0m\n\u001b[1;32m   7620\u001b[0m             \u001b[0;32mwith\u001b[0m \u001b[0mnp\u001b[0m\u001b[0;34m.\u001b[0m\u001b[0merrstate\u001b[0m\u001b[0;34m(\u001b[0m\u001b[0mall\u001b[0m\u001b[0;34m=\u001b[0m\u001b[0;34m\"ignore\"\u001b[0m\u001b[0;34m)\u001b[0m\u001b[0;34m:\u001b[0m\u001b[0;34m\u001b[0m\u001b[0;34m\u001b[0m\u001b[0m\n\u001b[0;32m-> 7621\u001b[0;31m                 \u001b[0mbm\u001b[0m \u001b[0;34m=\u001b[0m \u001b[0mself\u001b[0m\u001b[0;34m.\u001b[0m\u001b[0m_mgr\u001b[0m\u001b[0;34m.\u001b[0m\u001b[0mapply\u001b[0m\u001b[0;34m(\u001b[0m\u001b[0marray_op\u001b[0m\u001b[0;34m,\u001b[0m \u001b[0mright\u001b[0m\u001b[0;34m=\u001b[0m\u001b[0mright\u001b[0m\u001b[0;34m)\u001b[0m\u001b[0;34m\u001b[0m\u001b[0;34m\u001b[0m\u001b[0m\n\u001b[0m\u001b[1;32m   7622\u001b[0m             \u001b[0;32mreturn\u001b[0m \u001b[0mself\u001b[0m\u001b[0;34m.\u001b[0m\u001b[0m_constructor\u001b[0m\u001b[0;34m(\u001b[0m\u001b[0mbm\u001b[0m\u001b[0;34m)\u001b[0m\u001b[0;34m\u001b[0m\u001b[0;34m\u001b[0m\u001b[0m\n\u001b[1;32m   7623\u001b[0m \u001b[0;34m\u001b[0m\u001b[0m\n",
            "\u001b[0;32m/usr/local/lib/python3.10/dist-packages/pandas/core/internals/managers.py\u001b[0m in \u001b[0;36mapply\u001b[0;34m(self, f, align_keys, ignore_failures, **kwargs)\u001b[0m\n\u001b[1;32m    348\u001b[0m             \u001b[0;32mtry\u001b[0m\u001b[0;34m:\u001b[0m\u001b[0;34m\u001b[0m\u001b[0;34m\u001b[0m\u001b[0m\n\u001b[1;32m    349\u001b[0m                 \u001b[0;32mif\u001b[0m \u001b[0mcallable\u001b[0m\u001b[0;34m(\u001b[0m\u001b[0mf\u001b[0m\u001b[0;34m)\u001b[0m\u001b[0;34m:\u001b[0m\u001b[0;34m\u001b[0m\u001b[0;34m\u001b[0m\u001b[0m\n\u001b[0;32m--> 350\u001b[0;31m                     \u001b[0mapplied\u001b[0m \u001b[0;34m=\u001b[0m \u001b[0mb\u001b[0m\u001b[0;34m.\u001b[0m\u001b[0mapply\u001b[0m\u001b[0;34m(\u001b[0m\u001b[0mf\u001b[0m\u001b[0;34m,\u001b[0m \u001b[0;34m**\u001b[0m\u001b[0mkwargs\u001b[0m\u001b[0;34m)\u001b[0m\u001b[0;34m\u001b[0m\u001b[0;34m\u001b[0m\u001b[0m\n\u001b[0m\u001b[1;32m    351\u001b[0m                 \u001b[0;32melse\u001b[0m\u001b[0;34m:\u001b[0m\u001b[0;34m\u001b[0m\u001b[0;34m\u001b[0m\u001b[0m\n\u001b[1;32m    352\u001b[0m                     \u001b[0mapplied\u001b[0m \u001b[0;34m=\u001b[0m \u001b[0mgetattr\u001b[0m\u001b[0;34m(\u001b[0m\u001b[0mb\u001b[0m\u001b[0;34m,\u001b[0m \u001b[0mf\u001b[0m\u001b[0;34m)\u001b[0m\u001b[0;34m(\u001b[0m\u001b[0;34m**\u001b[0m\u001b[0mkwargs\u001b[0m\u001b[0;34m)\u001b[0m\u001b[0;34m\u001b[0m\u001b[0;34m\u001b[0m\u001b[0m\n",
            "\u001b[0;32m/usr/local/lib/python3.10/dist-packages/pandas/core/internals/blocks.py\u001b[0m in \u001b[0;36mapply\u001b[0;34m(self, func, **kwargs)\u001b[0m\n\u001b[1;32m    349\u001b[0m         \u001b[0mone\u001b[0m\u001b[0;34m\u001b[0m\u001b[0;34m\u001b[0m\u001b[0m\n\u001b[1;32m    350\u001b[0m         \"\"\"\n\u001b[0;32m--> 351\u001b[0;31m         \u001b[0mresult\u001b[0m \u001b[0;34m=\u001b[0m \u001b[0mfunc\u001b[0m\u001b[0;34m(\u001b[0m\u001b[0mself\u001b[0m\u001b[0;34m.\u001b[0m\u001b[0mvalues\u001b[0m\u001b[0;34m,\u001b[0m \u001b[0;34m**\u001b[0m\u001b[0mkwargs\u001b[0m\u001b[0;34m)\u001b[0m\u001b[0;34m\u001b[0m\u001b[0;34m\u001b[0m\u001b[0m\n\u001b[0m\u001b[1;32m    352\u001b[0m \u001b[0;34m\u001b[0m\u001b[0m\n\u001b[1;32m    353\u001b[0m         \u001b[0;32mreturn\u001b[0m \u001b[0mself\u001b[0m\u001b[0;34m.\u001b[0m\u001b[0m_split_op_result\u001b[0m\u001b[0;34m(\u001b[0m\u001b[0mresult\u001b[0m\u001b[0;34m)\u001b[0m\u001b[0;34m\u001b[0m\u001b[0;34m\u001b[0m\u001b[0m\n",
            "\u001b[0;32m/usr/local/lib/python3.10/dist-packages/pandas/core/ops/array_ops.py\u001b[0m in \u001b[0;36marithmetic_op\u001b[0;34m(left, right, op)\u001b[0m\n\u001b[1;32m    224\u001b[0m         \u001b[0;31m# error: Argument 1 to \"_na_arithmetic_op\" has incompatible type\u001b[0m\u001b[0;34m\u001b[0m\u001b[0;34m\u001b[0m\u001b[0m\n\u001b[1;32m    225\u001b[0m         \u001b[0;31m# \"Union[ExtensionArray, ndarray[Any, Any]]\"; expected \"ndarray[Any, Any]\"\u001b[0m\u001b[0;34m\u001b[0m\u001b[0;34m\u001b[0m\u001b[0m\n\u001b[0;32m--> 226\u001b[0;31m         \u001b[0mres_values\u001b[0m \u001b[0;34m=\u001b[0m \u001b[0m_na_arithmetic_op\u001b[0m\u001b[0;34m(\u001b[0m\u001b[0mleft\u001b[0m\u001b[0;34m,\u001b[0m \u001b[0mright\u001b[0m\u001b[0;34m,\u001b[0m \u001b[0mop\u001b[0m\u001b[0;34m)\u001b[0m  \u001b[0;31m# type: ignore[arg-type]\u001b[0m\u001b[0;34m\u001b[0m\u001b[0;34m\u001b[0m\u001b[0m\n\u001b[0m\u001b[1;32m    227\u001b[0m \u001b[0;34m\u001b[0m\u001b[0m\n\u001b[1;32m    228\u001b[0m     \u001b[0;32mreturn\u001b[0m \u001b[0mres_values\u001b[0m\u001b[0;34m\u001b[0m\u001b[0;34m\u001b[0m\u001b[0m\n",
            "\u001b[0;32m/usr/local/lib/python3.10/dist-packages/pandas/core/ops/array_ops.py\u001b[0m in \u001b[0;36m_na_arithmetic_op\u001b[0;34m(left, right, op, is_cmp)\u001b[0m\n\u001b[1;32m    163\u001b[0m \u001b[0;34m\u001b[0m\u001b[0m\n\u001b[1;32m    164\u001b[0m     \u001b[0;32mtry\u001b[0m\u001b[0;34m:\u001b[0m\u001b[0;34m\u001b[0m\u001b[0;34m\u001b[0m\u001b[0m\n\u001b[0;32m--> 165\u001b[0;31m         \u001b[0mresult\u001b[0m \u001b[0;34m=\u001b[0m \u001b[0mfunc\u001b[0m\u001b[0;34m(\u001b[0m\u001b[0mleft\u001b[0m\u001b[0;34m,\u001b[0m \u001b[0mright\u001b[0m\u001b[0;34m)\u001b[0m\u001b[0;34m\u001b[0m\u001b[0;34m\u001b[0m\u001b[0m\n\u001b[0m\u001b[1;32m    166\u001b[0m     \u001b[0;32mexcept\u001b[0m \u001b[0mTypeError\u001b[0m\u001b[0;34m:\u001b[0m\u001b[0;34m\u001b[0m\u001b[0;34m\u001b[0m\u001b[0m\n\u001b[1;32m    167\u001b[0m         \u001b[0;32mif\u001b[0m \u001b[0;32mnot\u001b[0m \u001b[0mis_cmp\u001b[0m \u001b[0;32mand\u001b[0m \u001b[0;34m(\u001b[0m\u001b[0mis_object_dtype\u001b[0m\u001b[0;34m(\u001b[0m\u001b[0mleft\u001b[0m\u001b[0;34m.\u001b[0m\u001b[0mdtype\u001b[0m\u001b[0;34m)\u001b[0m \u001b[0;32mor\u001b[0m \u001b[0mis_object_dtype\u001b[0m\u001b[0;34m(\u001b[0m\u001b[0mright\u001b[0m\u001b[0;34m)\u001b[0m\u001b[0;34m)\u001b[0m\u001b[0;34m:\u001b[0m\u001b[0;34m\u001b[0m\u001b[0;34m\u001b[0m\u001b[0m\n",
            "\u001b[0;31mUFuncTypeError\u001b[0m: ufunc 'subtract' did not contain a loop with signature matching types (dtype('float64'), dtype('<U14')) -> None"
          ]
        }
      ]
    },
    {
      "cell_type": "markdown",
      "source": [
        "(3 балла) Найдите насколько сильно (в процентах) отличается цена бриллиантов из тестовой выборки от их соответствующих ближайших соседей:"
      ],
      "metadata": {
        "id": "7R0uaHqurV_u"
      }
    },
    {
      "cell_type": "code",
      "source": [
        "# your code here"
      ],
      "metadata": {
        "id": "Uy2ngWJ4rn-4"
      },
      "execution_count": null,
      "outputs": []
    },
    {
      "cell_type": "markdown",
      "source": [
        "**Данная модель является выдумкой автора. Не важен коэффициент ошибки, важны ваши шаги для получения коэффициента.**"
      ],
      "metadata": {
        "id": "tl0CHY6_OAxU"
      }
    },
    {
      "cell_type": "markdown",
      "source": [
        "### Введение в машинное обучение"
      ],
      "metadata": {
        "id": "AbrAdKSUrqz5"
      }
    },
    {
      "cell_type": "markdown",
      "source": [
        "Теперь давайте познакомимся с таким сильным инструментом как `sklearn`."
      ],
      "metadata": {
        "id": "I6sqXZLYuox4"
      }
    },
    {
      "cell_type": "markdown",
      "source": [
        "Вам необходимо:\n",
        "1. выбрать 2 категориальных признака\n",
        "2. на их основе обучить решающее дерево\n",
        "3. оценить среднеквадратичную ошибку цены бриллианта\n",
        "4. сделать пп. 1-3 и выбрать ту пару, которая дает лучший результат\n",
        "5. сделать выводы"
      ],
      "metadata": {
        "id": "q4OpdbhwsuAX"
      }
    },
    {
      "cell_type": "markdown",
      "source": [
        "(3 балла) Мы работаем с категориальными признаками, для них не понятно что есть \"больше\" и \"меньше\". Поэтому нам нужно предварительно закодировать значения наших признаков, с чем нам поможет [OneHotEncoder](https://scikit-learn.org/stable/modules/generated/sklearn.preprocessing.OneHotEncoder.html):"
      ],
      "metadata": {
        "id": "rScraaVSxQlT"
      }
    },
    {
      "cell_type": "code",
      "source": [
        "# your code here"
      ],
      "metadata": {
        "id": "G8hDstLlxjry"
      },
      "execution_count": null,
      "outputs": []
    },
    {
      "cell_type": "markdown",
      "source": [
        "(3 балла) Разбейте датасет на обучающую и тестовую выбору. Для этого вам поможет [train_test_split](https://scikit-learn.org/stable/modules/generated/sklearn.model_selection.train_test_split.html):"
      ],
      "metadata": {
        "id": "ig8t-nmRvojA"
      }
    },
    {
      "cell_type": "code",
      "source": [
        "# your code here"
      ],
      "metadata": {
        "id": "ChVKP43AwY8i"
      },
      "execution_count": null,
      "outputs": []
    },
    {
      "cell_type": "markdown",
      "source": [
        "(3 балла) Затем создайте и обучите вашу модель - [DecisionTreeRegressor](https://scikit-learn.org/stable/modules/generated/sklearn.tree.DecisionTreeRegressor.html):"
      ],
      "metadata": {
        "id": "gbv2zLpkwZsq"
      }
    },
    {
      "cell_type": "code",
      "source": [
        "# your code here"
      ],
      "metadata": {
        "id": "Qfvv2j6Sws8p"
      },
      "execution_count": null,
      "outputs": []
    },
    {
      "cell_type": "markdown",
      "source": [
        "(3 балла) Оцените ошибку вашей модели при помощи [mean_squared_error](https://scikit-learn.org/stable/modules/generated/sklearn.metrics.mean_squared_error.html):"
      ],
      "metadata": {
        "id": "nUvBoY1pwtIv"
      }
    },
    {
      "cell_type": "code",
      "source": [
        "# your code here"
      ],
      "metadata": {
        "id": "q946oHPaxGA4"
      },
      "execution_count": null,
      "outputs": []
    },
    {
      "cell_type": "markdown",
      "source": [
        "(3 балла) **Сделайте выводы какие категориальные признаки лучше:**"
      ],
      "metadata": {
        "id": "scWwHLEKxGPl"
      }
    },
    {
      "cell_type": "markdown",
      "source": [
        "*Подсказки для маленьких: Что вы можете сказать о зависимости по вашей выборке признаков? Какой вы можете сделать вывод об готовых инструментах для работы и написанных Вами?*"
      ],
      "metadata": {
        "id": "djE6Ke2bL5WS"
      }
    },
    {
      "cell_type": "markdown",
      "source": [
        "Ваши выводы здесь :)"
      ],
      "metadata": {
        "id": "lu36_N58uvui"
      }
    }
  ]
}